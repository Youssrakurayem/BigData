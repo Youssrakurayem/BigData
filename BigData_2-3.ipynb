{
  "nbformat": 4,
  "nbformat_minor": 0,
  "metadata": {
    "colab": {
      "provenance": []
    },
    "kernelspec": {
      "name": "python3",
      "display_name": "Python 3"
    },
    "language_info": {
      "name": "python"
    }
  },
  "cells": [
    {
      "cell_type": "code",
      "execution_count": null,
      "metadata": {
        "id": "sCwQ8dqeze1w"
      },
      "outputs": [],
      "source": [
        "\n",
        "from pyspark.sql import SparkSession\n",
        "from pyspark.sql.functions import col, when, isnan, count, avg\n",
        "from pyspark.sql.types import IntegerType, FloatType, DateType\n",
        "from pyspark.sql.functions import when, col, count, sum, desc\n",
        "import matplotlib.pyplot as plt\n",
        "\n",
        "\n"
      ]
    },
    {
      "cell_type": "code",
      "source": [
        "pip install pyspark"
      ],
      "metadata": {
        "colab": {
          "base_uri": "https://localhost:8080/"
        },
        "id": "xQfgJGOPUlna",
        "outputId": "d7cc9d5d-0a79-454d-ab06-2b5bbd942005"
      },
      "execution_count": null,
      "outputs": [
        {
          "output_type": "stream",
          "name": "stdout",
          "text": [
            "Collecting pyspark\n",
            "  Downloading pyspark-3.5.1.tar.gz (317.0 MB)\n",
            "\u001b[2K     \u001b[90m━━━━━━━━━━━━━━━━━━━━━━━━━━━━━━━━━━━━━━━━\u001b[0m \u001b[32m317.0/317.0 MB\u001b[0m \u001b[31m4.8 MB/s\u001b[0m eta \u001b[36m0:00:00\u001b[0m\n",
            "\u001b[?25h  Preparing metadata (setup.py) ... \u001b[?25l\u001b[?25hdone\n",
            "Requirement already satisfied: py4j==0.10.9.7 in /usr/local/lib/python3.10/dist-packages (from pyspark) (0.10.9.7)\n",
            "Building wheels for collected packages: pyspark\n",
            "  Building wheel for pyspark (setup.py) ... \u001b[?25l\u001b[?25hdone\n",
            "  Created wheel for pyspark: filename=pyspark-3.5.1-py2.py3-none-any.whl size=317488491 sha256=7b555c8d0f7816ca13c388a1bd30ee9b087b3643653b7e9b2730f650262bdaf3\n",
            "  Stored in directory: /root/.cache/pip/wheels/80/1d/60/2c256ed38dddce2fdd93be545214a63e02fbd8d74fb0b7f3a6\n",
            "Successfully built pyspark\n",
            "Installing collected packages: pyspark\n",
            "Successfully installed pyspark-3.5.1\n"
          ]
        }
      ]
    },
    {
      "cell_type": "code",
      "source": [
        "from pyspark.sql import SparkSession\n",
        "from pyspark.sql.functions import col, avg, sum, count, when\n",
        "from pyspark.sql.types import DateType, FloatType\n",
        "\n",
        "# Create a Spark session\n",
        "spark = SparkSession.builder.appName(\"KickstarterAnalysis\").getOrCreate()\n",
        "\n",
        "# Load the data\n",
        "df = spark.read.csv(\"/content/kick_starter.csv\", header=True, inferSchema=True)\n",
        "\n",
        "# Display schema and initial data\n",
        "df.printSchema()\n",
        "df.show(5)\n",
        "\n"
      ],
      "metadata": {
        "colab": {
          "base_uri": "https://localhost:8080/"
        },
        "id": "WzDKDwtXzpNs",
        "outputId": "5938d9fc-f7a7-4023-cb87-40b99f4299e4"
      },
      "execution_count": 32,
      "outputs": [
        {
          "output_type": "stream",
          "name": "stdout",
          "text": [
            "root\n",
            " |-- ID: integer (nullable = true)\n",
            " |-- name: string (nullable = true)\n",
            " |-- category: string (nullable = true)\n",
            " |-- main_category: string (nullable = true)\n",
            " |-- currency: string (nullable = true)\n",
            " |-- deadline: string (nullable = true)\n",
            " |-- goal: string (nullable = true)\n",
            " |-- launched: string (nullable = true)\n",
            " |-- pledged: string (nullable = true)\n",
            " |-- state: string (nullable = true)\n",
            " |-- backers: string (nullable = true)\n",
            " |-- country: string (nullable = true)\n",
            " |-- usd pledged: string (nullable = true)\n",
            " |-- usd_pledged_real: string (nullable = true)\n",
            " |-- usd_goal_real: string (nullable = true)\n",
            "\n",
            "+----------+--------------------+--------------+-------------+--------+----------+--------+-------------------+-------+--------+-------+-------+-----------+----------------+-------------+\n",
            "|        ID|                name|      category|main_category|currency|  deadline|    goal|           launched|pledged|   state|backers|country|usd pledged|usd_pledged_real|usd_goal_real|\n",
            "+----------+--------------------+--------------+-------------+--------+----------+--------+-------------------+-------+--------+-------+-------+-----------+----------------+-------------+\n",
            "|1000002330|The Songs of Adel...|        Poetry|   Publishing|     GBP|2015-10-09| 1000.00|2015-08-11 12:12:28|   0.00|  failed|      0|     GB|       0.00|            0.00|      1533.95|\n",
            "|1000003930|Greeting From Ear...|Narrative Film| Film & Video|     USD|2017-11-01|30000.00|2017-09-02 04:43:57|2421.00|  failed|     15|     US|     100.00|         2421.00|     30000.00|\n",
            "|1000004038|      Where is Hank?|Narrative Film| Film & Video|     USD|2013-02-26|45000.00|2013-01-12 00:20:50| 220.00|  failed|      3|     US|     220.00|          220.00|     45000.00|\n",
            "|1000007540|ToshiCapital Reko...|         Music|        Music|     USD|2012-04-16| 5000.00|2012-03-17 03:24:11|   1.00|  failed|      1|     US|       1.00|            1.00|      5000.00|\n",
            "|1000011046|Community Film Pr...|  Film & Video| Film & Video|     USD|2015-08-29|19500.00|2015-07-04 08:35:03|1283.00|canceled|     14|     US|    1283.00|         1283.00|     19500.00|\n",
            "+----------+--------------------+--------------+-------------+--------+----------+--------+-------------------+-------+--------+-------+-------+-----------+----------------+-------------+\n",
            "only showing top 5 rows\n",
            "\n"
          ]
        }
      ]
    },
    {
      "cell_type": "code",
      "source": [
        "# Number of rows\n",
        "num_rows = df.count()\n",
        "\n",
        "# Number of columns\n",
        "num_columns = len(df.columns)\n",
        "\n",
        "shape = (num_rows, num_columns)\n",
        "\n",
        "print(f\"Shape of the DataFrame: {shape}\")"
      ],
      "metadata": {
        "colab": {
          "base_uri": "https://localhost:8080/"
        },
        "id": "nv5PRguCz_uU",
        "outputId": "78aa0258-e9ec-49e4-9b87-30da57a77d03"
      },
      "execution_count": 14,
      "outputs": [
        {
          "output_type": "stream",
          "name": "stdout",
          "text": [
            "Shape of the DataFrame: (378661, 15)\n"
          ]
        }
      ]
    },
    {
      "cell_type": "code",
      "source": [
        "# Count null values for each column before applying any data transformations\n",
        "null_counts = df.select([sum(when(col(c).isNull(), 1).otherwise(0)).alias(c) for c in df.columns])\n",
        "null_counts.show()"
      ],
      "metadata": {
        "colab": {
          "base_uri": "https://localhost:8080/"
        },
        "id": "PhzkfxTM1V8V",
        "outputId": "4618726c-b45a-4963-fa10-de994e011b57"
      },
      "execution_count": 24,
      "outputs": [
        {
          "output_type": "stream",
          "name": "stdout",
          "text": [
            "+---+----+--------+-------------+--------+--------+----+--------+-------+-----+-------+-------+-----------+----------------+-------------+-----+\n",
            "| ID|name|category|main_category|currency|deadline|goal|launched|pledged|state|backers|country|usd pledged|usd_pledged_real|usd_goal_real|label|\n",
            "+---+----+--------+-------------+--------+--------+----+--------+-------+-----+-------+-------+-----------+----------------+-------------+-----+\n",
            "|  0|   4|       0|            0|       0|    1292|1292|    1109|   1109|    0|      0|      0|       4895|             193|           19|    0|\n",
            "+---+----+--------+-------------+--------+--------+----+--------+-------+-----+-------+-------+-----------+----------------+-------------+-----+\n",
            "\n"
          ]
        }
      ]
    },
    {
      "cell_type": "code",
      "source": [
        "# Remove duplicates\n",
        "df = df.dropDuplicates()\n",
        "\n",
        "# Converting date columns to Date Type\n",
        "df = df.withColumn(\"deadline\", col(\"deadline\").cast(DateType())) \\\n",
        "       .withColumn(\"launched\", col(\"launched\").cast(DateType()))\n",
        "\n",
        "# Replace null values with the average value for numerical columns\n",
        "numerical_columns = [col_name for col_name, dtype in df.dtypes if dtype in ['int', 'double', 'float']]\n",
        "for col_name in numerical_columns:\n",
        "    avg_value = df.select(avg(col_name)).first()[0]\n",
        "    df = df.na.fill({col_name: avg_value})\n",
        "\n",
        "\n"
      ],
      "metadata": {
        "id": "E-aq3lMf0Dte"
      },
      "execution_count": 33,
      "outputs": []
    },
    {
      "cell_type": "code",
      "source": [
        "#to ensure that there are no null values remaining\n",
        "null_counts = df.select([sum(when(col(c).isNull(), 1).otherwise(0)).alias(c) for c in df.columns])\n",
        "null_counts.show()"
      ],
      "metadata": {
        "colab": {
          "base_uri": "https://localhost:8080/"
        },
        "id": "SE_dzE174lgS",
        "outputId": "8e67dc76-609e-4b79-b7dc-e3d886a8dd29"
      },
      "execution_count": 30,
      "outputs": [
        {
          "output_type": "stream",
          "name": "stdout",
          "text": [
            "+---+----+--------+-------------+--------+--------+----+--------+-------+-----+-------+-------+-----------+----------------+-------------+-----+\n",
            "| ID|name|category|main_category|currency|deadline|goal|launched|pledged|state|backers|country|usd pledged|usd_pledged_real|usd_goal_real|label|\n",
            "+---+----+--------+-------------+--------+--------+----+--------+-------+-----+-------+-------+-----------+----------------+-------------+-----+\n",
            "|  0|   4|       0|            0|       0|    1292|   0|    1109|      0|    0|      0|      0|          0|               0|            0|    0|\n",
            "+---+----+--------+-------------+--------+--------+----+--------+-------+-----+-------+-------+-----------+----------------+-------------+-----+\n",
            "\n"
          ]
        }
      ]
    },
    {
      "cell_type": "code",
      "source": [
        "# Prepare Target Columns\n",
        "\n",
        "# 1) Drop live projects\n",
        "df = df.filter(df.state != \"live\")\n",
        "# 2) count \"successful\" states as outcome = 1, otherwise will be a zero\n",
        "df = df.withColumn(\"label\", when(df.state == \"successful\", 1).otherwise(0))\n",
        "\n",
        "# Convert columns to Float\n",
        "df = df.withColumn(\"goal\", df[\"goal\"].cast(FloatType()))\n",
        "df = df.withColumn(\"pledged\", df[\"pledged\"].cast(FloatType()))\n",
        "df = df.withColumn(\"usd pledged\", df[\"usd pledged\"].cast(FloatType()))\n",
        "df = df.withColumn(\"usd_pledged_real\", df[\"usd_pledged_real\"].cast(FloatType()))\n",
        "df = df.withColumn(\"usd_goal_real\", df[\"usd_goal_real\"].cast(FloatType()))\n",
        "\n",
        "df.show(5)"
      ],
      "metadata": {
        "colab": {
          "base_uri": "https://localhost:8080/"
        },
        "id": "cHiCQr1v4cW3",
        "outputId": "86ad8ccb-3945-4998-9de2-b16092e9669a"
      },
      "execution_count": 34,
      "outputs": [
        {
          "output_type": "stream",
          "name": "stdout",
          "text": [
            "+----------+--------------------+---------+-------------+--------+----------+-------+----------+-------+----------+-------+-------+-----------+----------------+-------------+-----+\n",
            "|        ID|                name| category|main_category|currency|  deadline|   goal|  launched|pledged|     state|backers|country|usd pledged|usd_pledged_real|usd_goal_real|label|\n",
            "+----------+--------------------+---------+-------------+--------+----------+-------+----------+-------+----------+-------+-------+-----------+----------------+-------------+-----+\n",
            "|1000294559|Secular Solstice ...|Festivals|      Theater|     USD|2014-10-27| 7500.0|2014-10-02|8157.01|successful|    164|     US|    8157.01|         8157.01|       7500.0|    1|\n",
            "|  10003650|Glyscian Debut Al...|     Rock|        Music|     USD|2012-05-26|15000.0|2012-03-27|  151.0|  canceled|      4|     US|      151.0|           151.0|      15000.0|    0|\n",
            "|1000581546|      Project U-Neek|      Art|          Art|     GBP|2013-05-08| 1500.0|2013-04-08| 1515.5|successful|     19|     GB|    2320.27|         2331.32|      2307.48|    1|\n",
            "|1001468086|    Bass River Press|   Poetry|   Publishing|     USD|2015-04-05| 2000.0|2015-03-06|  325.0|    failed|      6|     US|      325.0|           325.0|       2000.0|    0|\n",
            "|1005488974|Gender neutral pa...|    Dance|        Dance|     GBP|2015-12-16| 2000.0|2015-11-22| 819.61|    failed|     24|     GB|     1245.1|          1222.2|       2982.4|    0|\n",
            "+----------+--------------------+---------+-------------+--------+----------+-------+----------+-------+----------+-------+-------+-----------+----------------+-------------+-----+\n",
            "only showing top 5 rows\n",
            "\n"
          ]
        }
      ]
    },
    {
      "cell_type": "code",
      "source": [
        "# shape after data transformation\n",
        "num_rows = df.count()\n",
        "num_columns = len(df.columns)\n",
        "shape = (num_rows, num_columns)\n",
        "\n",
        "print(f\"Shape of the DataFrame: {shape}\")"
      ],
      "metadata": {
        "colab": {
          "base_uri": "https://localhost:8080/"
        },
        "id": "YYYT0LVw2Icx",
        "outputId": "6dfb1fd9-e60a-44e2-c14e-e4b123856336"
      },
      "execution_count": 22,
      "outputs": [
        {
          "output_type": "stream",
          "name": "stdout",
          "text": [
            "Shape of the DataFrame: (375860, 16)\n"
          ]
        }
      ]
    },
    {
      "cell_type": "code",
      "source": [
        "#query 1:  Top 5 Categories with the Highest Success Rate\n",
        "\n",
        "\n",
        "from pyspark.sql.functions import col, when\n",
        "\n",
        "# Add a new column for success (1 if success, 0 otherwise)\n",
        "df = df.withColumn(\"success\", when(col(\"state\") == \"successful\", 1).otherwise(0))\n",
        "\n",
        "# Group by main_category and calculate the success rate\n",
        "success_rate = df.groupBy(\"main_category\").agg((sum(\"success\") / count(\"success\")).alias(\"success_rate\"))\n",
        "top_categories = success_rate.orderBy(col(\"success_rate\").desc()).limit(5)\n",
        "top_categories.show()\n",
        "\n",
        "\n",
        "# Visualization by using an interactive bar chart\n",
        "import plotly.express as px\n",
        "fig = px.bar(top_categories.toPandas(), x='main_category', y='success_rate', title='Top 5 Categories with the Highest Success Rate')\n",
        "fig.show()\n",
        "\n"
      ],
      "metadata": {
        "colab": {
          "base_uri": "https://localhost:8080/",
          "height": 712
        },
        "id": "O3pSD77Z3HTS",
        "outputId": "56e9111f-e7d9-417d-a866-a286a9a37bef"
      },
      "execution_count": 38,
      "outputs": [
        {
          "output_type": "stream",
          "name": "stdout",
          "text": [
            "+-------------+-------------------+\n",
            "|main_category|       success_rate|\n",
            "+-------------+-------------------+\n",
            "|        Dance| 0.6184245660881175|\n",
            "|      Theater| 0.5969942836068597|\n",
            "|       Comics| 0.5429050591633281|\n",
            "|        Music|0.46764843202863593|\n",
            "|          Art| 0.4112900333536563|\n",
            "+-------------+-------------------+\n",
            "\n"
          ]
        },
        {
          "output_type": "display_data",
          "data": {
            "text/html": [
              "<html>\n",
              "<head><meta charset=\"utf-8\" /></head>\n",
              "<body>\n",
              "    <div>            <script src=\"https://cdnjs.cloudflare.com/ajax/libs/mathjax/2.7.5/MathJax.js?config=TeX-AMS-MML_SVG\"></script><script type=\"text/javascript\">if (window.MathJax && window.MathJax.Hub && window.MathJax.Hub.Config) {window.MathJax.Hub.Config({SVG: {font: \"STIX-Web\"}});}</script>                <script type=\"text/javascript\">window.PlotlyConfig = {MathJaxConfig: 'local'};</script>\n",
              "        <script charset=\"utf-8\" src=\"https://cdn.plot.ly/plotly-2.24.1.min.js\"></script>                <div id=\"55fbb9bf-d311-44bd-904d-16914e3b72fc\" class=\"plotly-graph-div\" style=\"height:525px; width:100%;\"></div>            <script type=\"text/javascript\">                                    window.PLOTLYENV=window.PLOTLYENV || {};                                    if (document.getElementById(\"55fbb9bf-d311-44bd-904d-16914e3b72fc\")) {                    Plotly.newPlot(                        \"55fbb9bf-d311-44bd-904d-16914e3b72fc\",                        [{\"alignmentgroup\":\"True\",\"hovertemplate\":\"main_category=%{x}\\u003cbr\\u003esuccess_rate=%{y}\\u003cextra\\u003e\\u003c\\u002fextra\\u003e\",\"legendgroup\":\"\",\"marker\":{\"color\":\"#636efa\",\"pattern\":{\"shape\":\"\"}},\"name\":\"\",\"offsetgroup\":\"\",\"orientation\":\"v\",\"showlegend\":false,\"textposition\":\"auto\",\"x\":[\"Dance\",\"Theater\",\"Comics\",\"Music\",\"Art\"],\"xaxis\":\"x\",\"y\":[0.6184245660881175,0.5969942836068597,0.5429050591633281,0.46764843202863593,0.4112900333536563],\"yaxis\":\"y\",\"type\":\"bar\"}],                        {\"template\":{\"data\":{\"histogram2dcontour\":[{\"type\":\"histogram2dcontour\",\"colorbar\":{\"outlinewidth\":0,\"ticks\":\"\"},\"colorscale\":[[0.0,\"#0d0887\"],[0.1111111111111111,\"#46039f\"],[0.2222222222222222,\"#7201a8\"],[0.3333333333333333,\"#9c179e\"],[0.4444444444444444,\"#bd3786\"],[0.5555555555555556,\"#d8576b\"],[0.6666666666666666,\"#ed7953\"],[0.7777777777777778,\"#fb9f3a\"],[0.8888888888888888,\"#fdca26\"],[1.0,\"#f0f921\"]]}],\"choropleth\":[{\"type\":\"choropleth\",\"colorbar\":{\"outlinewidth\":0,\"ticks\":\"\"}}],\"histogram2d\":[{\"type\":\"histogram2d\",\"colorbar\":{\"outlinewidth\":0,\"ticks\":\"\"},\"colorscale\":[[0.0,\"#0d0887\"],[0.1111111111111111,\"#46039f\"],[0.2222222222222222,\"#7201a8\"],[0.3333333333333333,\"#9c179e\"],[0.4444444444444444,\"#bd3786\"],[0.5555555555555556,\"#d8576b\"],[0.6666666666666666,\"#ed7953\"],[0.7777777777777778,\"#fb9f3a\"],[0.8888888888888888,\"#fdca26\"],[1.0,\"#f0f921\"]]}],\"heatmap\":[{\"type\":\"heatmap\",\"colorbar\":{\"outlinewidth\":0,\"ticks\":\"\"},\"colorscale\":[[0.0,\"#0d0887\"],[0.1111111111111111,\"#46039f\"],[0.2222222222222222,\"#7201a8\"],[0.3333333333333333,\"#9c179e\"],[0.4444444444444444,\"#bd3786\"],[0.5555555555555556,\"#d8576b\"],[0.6666666666666666,\"#ed7953\"],[0.7777777777777778,\"#fb9f3a\"],[0.8888888888888888,\"#fdca26\"],[1.0,\"#f0f921\"]]}],\"heatmapgl\":[{\"type\":\"heatmapgl\",\"colorbar\":{\"outlinewidth\":0,\"ticks\":\"\"},\"colorscale\":[[0.0,\"#0d0887\"],[0.1111111111111111,\"#46039f\"],[0.2222222222222222,\"#7201a8\"],[0.3333333333333333,\"#9c179e\"],[0.4444444444444444,\"#bd3786\"],[0.5555555555555556,\"#d8576b\"],[0.6666666666666666,\"#ed7953\"],[0.7777777777777778,\"#fb9f3a\"],[0.8888888888888888,\"#fdca26\"],[1.0,\"#f0f921\"]]}],\"contourcarpet\":[{\"type\":\"contourcarpet\",\"colorbar\":{\"outlinewidth\":0,\"ticks\":\"\"}}],\"contour\":[{\"type\":\"contour\",\"colorbar\":{\"outlinewidth\":0,\"ticks\":\"\"},\"colorscale\":[[0.0,\"#0d0887\"],[0.1111111111111111,\"#46039f\"],[0.2222222222222222,\"#7201a8\"],[0.3333333333333333,\"#9c179e\"],[0.4444444444444444,\"#bd3786\"],[0.5555555555555556,\"#d8576b\"],[0.6666666666666666,\"#ed7953\"],[0.7777777777777778,\"#fb9f3a\"],[0.8888888888888888,\"#fdca26\"],[1.0,\"#f0f921\"]]}],\"surface\":[{\"type\":\"surface\",\"colorbar\":{\"outlinewidth\":0,\"ticks\":\"\"},\"colorscale\":[[0.0,\"#0d0887\"],[0.1111111111111111,\"#46039f\"],[0.2222222222222222,\"#7201a8\"],[0.3333333333333333,\"#9c179e\"],[0.4444444444444444,\"#bd3786\"],[0.5555555555555556,\"#d8576b\"],[0.6666666666666666,\"#ed7953\"],[0.7777777777777778,\"#fb9f3a\"],[0.8888888888888888,\"#fdca26\"],[1.0,\"#f0f921\"]]}],\"mesh3d\":[{\"type\":\"mesh3d\",\"colorbar\":{\"outlinewidth\":0,\"ticks\":\"\"}}],\"scatter\":[{\"fillpattern\":{\"fillmode\":\"overlay\",\"size\":10,\"solidity\":0.2},\"type\":\"scatter\"}],\"parcoords\":[{\"type\":\"parcoords\",\"line\":{\"colorbar\":{\"outlinewidth\":0,\"ticks\":\"\"}}}],\"scatterpolargl\":[{\"type\":\"scatterpolargl\",\"marker\":{\"colorbar\":{\"outlinewidth\":0,\"ticks\":\"\"}}}],\"bar\":[{\"error_x\":{\"color\":\"#2a3f5f\"},\"error_y\":{\"color\":\"#2a3f5f\"},\"marker\":{\"line\":{\"color\":\"#E5ECF6\",\"width\":0.5},\"pattern\":{\"fillmode\":\"overlay\",\"size\":10,\"solidity\":0.2}},\"type\":\"bar\"}],\"scattergeo\":[{\"type\":\"scattergeo\",\"marker\":{\"colorbar\":{\"outlinewidth\":0,\"ticks\":\"\"}}}],\"scatterpolar\":[{\"type\":\"scatterpolar\",\"marker\":{\"colorbar\":{\"outlinewidth\":0,\"ticks\":\"\"}}}],\"histogram\":[{\"marker\":{\"pattern\":{\"fillmode\":\"overlay\",\"size\":10,\"solidity\":0.2}},\"type\":\"histogram\"}],\"scattergl\":[{\"type\":\"scattergl\",\"marker\":{\"colorbar\":{\"outlinewidth\":0,\"ticks\":\"\"}}}],\"scatter3d\":[{\"type\":\"scatter3d\",\"line\":{\"colorbar\":{\"outlinewidth\":0,\"ticks\":\"\"}},\"marker\":{\"colorbar\":{\"outlinewidth\":0,\"ticks\":\"\"}}}],\"scattermapbox\":[{\"type\":\"scattermapbox\",\"marker\":{\"colorbar\":{\"outlinewidth\":0,\"ticks\":\"\"}}}],\"scatterternary\":[{\"type\":\"scatterternary\",\"marker\":{\"colorbar\":{\"outlinewidth\":0,\"ticks\":\"\"}}}],\"scattercarpet\":[{\"type\":\"scattercarpet\",\"marker\":{\"colorbar\":{\"outlinewidth\":0,\"ticks\":\"\"}}}],\"carpet\":[{\"aaxis\":{\"endlinecolor\":\"#2a3f5f\",\"gridcolor\":\"white\",\"linecolor\":\"white\",\"minorgridcolor\":\"white\",\"startlinecolor\":\"#2a3f5f\"},\"baxis\":{\"endlinecolor\":\"#2a3f5f\",\"gridcolor\":\"white\",\"linecolor\":\"white\",\"minorgridcolor\":\"white\",\"startlinecolor\":\"#2a3f5f\"},\"type\":\"carpet\"}],\"table\":[{\"cells\":{\"fill\":{\"color\":\"#EBF0F8\"},\"line\":{\"color\":\"white\"}},\"header\":{\"fill\":{\"color\":\"#C8D4E3\"},\"line\":{\"color\":\"white\"}},\"type\":\"table\"}],\"barpolar\":[{\"marker\":{\"line\":{\"color\":\"#E5ECF6\",\"width\":0.5},\"pattern\":{\"fillmode\":\"overlay\",\"size\":10,\"solidity\":0.2}},\"type\":\"barpolar\"}],\"pie\":[{\"automargin\":true,\"type\":\"pie\"}]},\"layout\":{\"autotypenumbers\":\"strict\",\"colorway\":[\"#636efa\",\"#EF553B\",\"#00cc96\",\"#ab63fa\",\"#FFA15A\",\"#19d3f3\",\"#FF6692\",\"#B6E880\",\"#FF97FF\",\"#FECB52\"],\"font\":{\"color\":\"#2a3f5f\"},\"hovermode\":\"closest\",\"hoverlabel\":{\"align\":\"left\"},\"paper_bgcolor\":\"white\",\"plot_bgcolor\":\"#E5ECF6\",\"polar\":{\"bgcolor\":\"#E5ECF6\",\"angularaxis\":{\"gridcolor\":\"white\",\"linecolor\":\"white\",\"ticks\":\"\"},\"radialaxis\":{\"gridcolor\":\"white\",\"linecolor\":\"white\",\"ticks\":\"\"}},\"ternary\":{\"bgcolor\":\"#E5ECF6\",\"aaxis\":{\"gridcolor\":\"white\",\"linecolor\":\"white\",\"ticks\":\"\"},\"baxis\":{\"gridcolor\":\"white\",\"linecolor\":\"white\",\"ticks\":\"\"},\"caxis\":{\"gridcolor\":\"white\",\"linecolor\":\"white\",\"ticks\":\"\"}},\"coloraxis\":{\"colorbar\":{\"outlinewidth\":0,\"ticks\":\"\"}},\"colorscale\":{\"sequential\":[[0.0,\"#0d0887\"],[0.1111111111111111,\"#46039f\"],[0.2222222222222222,\"#7201a8\"],[0.3333333333333333,\"#9c179e\"],[0.4444444444444444,\"#bd3786\"],[0.5555555555555556,\"#d8576b\"],[0.6666666666666666,\"#ed7953\"],[0.7777777777777778,\"#fb9f3a\"],[0.8888888888888888,\"#fdca26\"],[1.0,\"#f0f921\"]],\"sequentialminus\":[[0.0,\"#0d0887\"],[0.1111111111111111,\"#46039f\"],[0.2222222222222222,\"#7201a8\"],[0.3333333333333333,\"#9c179e\"],[0.4444444444444444,\"#bd3786\"],[0.5555555555555556,\"#d8576b\"],[0.6666666666666666,\"#ed7953\"],[0.7777777777777778,\"#fb9f3a\"],[0.8888888888888888,\"#fdca26\"],[1.0,\"#f0f921\"]],\"diverging\":[[0,\"#8e0152\"],[0.1,\"#c51b7d\"],[0.2,\"#de77ae\"],[0.3,\"#f1b6da\"],[0.4,\"#fde0ef\"],[0.5,\"#f7f7f7\"],[0.6,\"#e6f5d0\"],[0.7,\"#b8e186\"],[0.8,\"#7fbc41\"],[0.9,\"#4d9221\"],[1,\"#276419\"]]},\"xaxis\":{\"gridcolor\":\"white\",\"linecolor\":\"white\",\"ticks\":\"\",\"title\":{\"standoff\":15},\"zerolinecolor\":\"white\",\"automargin\":true,\"zerolinewidth\":2},\"yaxis\":{\"gridcolor\":\"white\",\"linecolor\":\"white\",\"ticks\":\"\",\"title\":{\"standoff\":15},\"zerolinecolor\":\"white\",\"automargin\":true,\"zerolinewidth\":2},\"scene\":{\"xaxis\":{\"backgroundcolor\":\"#E5ECF6\",\"gridcolor\":\"white\",\"linecolor\":\"white\",\"showbackground\":true,\"ticks\":\"\",\"zerolinecolor\":\"white\",\"gridwidth\":2},\"yaxis\":{\"backgroundcolor\":\"#E5ECF6\",\"gridcolor\":\"white\",\"linecolor\":\"white\",\"showbackground\":true,\"ticks\":\"\",\"zerolinecolor\":\"white\",\"gridwidth\":2},\"zaxis\":{\"backgroundcolor\":\"#E5ECF6\",\"gridcolor\":\"white\",\"linecolor\":\"white\",\"showbackground\":true,\"ticks\":\"\",\"zerolinecolor\":\"white\",\"gridwidth\":2}},\"shapedefaults\":{\"line\":{\"color\":\"#2a3f5f\"}},\"annotationdefaults\":{\"arrowcolor\":\"#2a3f5f\",\"arrowhead\":0,\"arrowwidth\":1},\"geo\":{\"bgcolor\":\"white\",\"landcolor\":\"#E5ECF6\",\"subunitcolor\":\"white\",\"showland\":true,\"showlakes\":true,\"lakecolor\":\"white\"},\"title\":{\"x\":0.05},\"mapbox\":{\"style\":\"light\"}}},\"xaxis\":{\"anchor\":\"y\",\"domain\":[0.0,1.0],\"title\":{\"text\":\"main_category\"}},\"yaxis\":{\"anchor\":\"x\",\"domain\":[0.0,1.0],\"title\":{\"text\":\"success_rate\"}},\"legend\":{\"tracegroupgap\":0},\"title\":{\"text\":\"Top 5 Categories with the Highest Success Rate\"},\"barmode\":\"relative\"},                        {\"responsive\": true}                    ).then(function(){\n",
              "                            \n",
              "var gd = document.getElementById('55fbb9bf-d311-44bd-904d-16914e3b72fc');\n",
              "var x = new MutationObserver(function (mutations, observer) {{\n",
              "        var display = window.getComputedStyle(gd).display;\n",
              "        if (!display || display === 'none') {{\n",
              "            console.log([gd, 'removed!']);\n",
              "            Plotly.purge(gd);\n",
              "            observer.disconnect();\n",
              "        }}\n",
              "}});\n",
              "\n",
              "// Listen for the removal of the full notebook cells\n",
              "var notebookContainer = gd.closest('#notebook-container');\n",
              "if (notebookContainer) {{\n",
              "    x.observe(notebookContainer, {childList: true});\n",
              "}}\n",
              "\n",
              "// Listen for the clearing of the current output cell\n",
              "var outputEl = gd.closest('.output');\n",
              "if (outputEl) {{\n",
              "    x.observe(outputEl, {childList: true});\n",
              "}}\n",
              "\n",
              "                        })                };                            </script>        </div>\n",
              "</body>\n",
              "</html>"
            ]
          },
          "metadata": {}
        }
      ]
    },
    {
      "cell_type": "markdown",
      "source": [
        "Query 2:"
      ],
      "metadata": {
        "id": "CXw8v4uX6OXJ"
      }
    },
    {
      "cell_type": "markdown",
      "source": [
        "Average Number of Backers by Main Category"
      ],
      "metadata": {
        "id": "ZoVislbgxFkH"
      }
    },
    {
      "cell_type": "code",
      "source": [
        "# Clean the country column by filtering out non-alphabetic entries\n",
        "#cleaned_df = df.filter(col(\"country\").rlike(\"[a-zA-Z]\"))\n",
        "\n",
        "# Group by main_category and calculate the average number of backers\n",
        "avg_backers_by_category = df.groupBy(\"main_category\").agg(avg(\"backers\").alias(\"avg_backers\"))\n",
        "\n",
        "# Order by average number of backers in descending order\n",
        "avg_backers_by_category = avg_backers_by_category.orderBy(col(\"avg_backers\").desc())\n",
        "avg_backers_by_category.show()\n",
        "\n",
        "\n"
      ],
      "metadata": {
        "colab": {
          "base_uri": "https://localhost:8080/"
        },
        "id": "aAmTOnXb407c",
        "outputId": "a0ca1fe0-2c23-4ae3-e6bf-371d2b335f94"
      },
      "execution_count": 39,
      "outputs": [
        {
          "output_type": "stream",
          "name": "stdout",
          "text": [
            "+--------------------+-----------+\n",
            "|       main_category|avg_backers|\n",
            "+--------------------+-----------+\n",
            "|           by Blule\"|  102909.06|\n",
            "|             Shelter|    77750.0|\n",
            "|        & Destiny\"\"\"|    65500.9|\n",
            "|       The Movement\"|   27029.88|\n",
            "| and universal so...|    25499.0|\n",
            "|     and Burnouts\"\"\"|    22540.0|\n",
            "|\"\" A Children's B...|   20123.47|\n",
            "|             Redux!\"|    16735.0|\n",
            "|  I'll record a C...|    15220.0|\n",
            "|         or Squeak!\"|    15024.0|\n",
            "| Maulana\"\": The S...|    13199.9|\n",
            "| SYREN Modern Dance\"|    12506.0|\n",
            "| rhyming picture ...|    11001.0|\n",
            "|          Apollo\"\"!\"|    10895.5|\n",
            "|     Or Dead\"\" Film\"|    10647.0|\n",
            "|      Graphic Novel\"|    10112.0|\n",
            "| VICTORY\"\" PORPHY...|    10075.0|\n",
            "|         and poetry\"|     8230.0|\n",
            "| and Sir Hound\"\" ...|     7830.0|\n",
            "| is coming your w...|     7394.0|\n",
            "+--------------------+-----------+\n",
            "only showing top 20 rows\n",
            "\n"
          ]
        }
      ]
    },
    {
      "cell_type": "code",
      "source": [
        "# Select the top 20 categories based on the average number of backers\n",
        "top_20_categories = avg_backers_by_category.limit(20)\n",
        "\n",
        "# Visualization using Sunburst Chart\n",
        "import plotly.express as px\n",
        "\n",
        "fig = px.sunburst(top_20_categories.toPandas(), path=['main_category'], values='avg_backers', title='Average Number of Backers by Main Category (Top 20)')\n",
        "fig.show()\n"
      ],
      "metadata": {
        "colab": {
          "base_uri": "https://localhost:8080/",
          "height": 542
        },
        "id": "cfbR53aM6c0m",
        "outputId": "ab208d76-72ef-4e65-cb51-5c76cbeb61b9"
      },
      "execution_count": 43,
      "outputs": [
        {
          "output_type": "display_data",
          "data": {
            "text/html": [
              "<html>\n",
              "<head><meta charset=\"utf-8\" /></head>\n",
              "<body>\n",
              "    <div>            <script src=\"https://cdnjs.cloudflare.com/ajax/libs/mathjax/2.7.5/MathJax.js?config=TeX-AMS-MML_SVG\"></script><script type=\"text/javascript\">if (window.MathJax && window.MathJax.Hub && window.MathJax.Hub.Config) {window.MathJax.Hub.Config({SVG: {font: \"STIX-Web\"}});}</script>                <script type=\"text/javascript\">window.PlotlyConfig = {MathJaxConfig: 'local'};</script>\n",
              "        <script charset=\"utf-8\" src=\"https://cdn.plot.ly/plotly-2.24.1.min.js\"></script>                <div id=\"a7cf3e3d-de7f-4768-b818-c12d78dceca2\" class=\"plotly-graph-div\" style=\"height:525px; width:100%;\"></div>            <script type=\"text/javascript\">                                    window.PLOTLYENV=window.PLOTLYENV || {};                                    if (document.getElementById(\"a7cf3e3d-de7f-4768-b818-c12d78dceca2\")) {                    Plotly.newPlot(                        \"a7cf3e3d-de7f-4768-b818-c12d78dceca2\",                        [{\"branchvalues\":\"total\",\"domain\":{\"x\":[0.0,1.0],\"y\":[0.0,1.0]},\"hovertemplate\":\"labels=%{label}\\u003cbr\\u003eavg_backers=%{value}\\u003cbr\\u003eparent=%{parent}\\u003cbr\\u003eid=%{id}\\u003cextra\\u003e\\u003c\\u002fextra\\u003e\",\"ids\":[\"  I'll record a CD!!\\\"\\\"\\\"\",\" & Destiny\\\"\\\"\\\"\",\" Apollo\\\"\\\"!\\\"\",\" Graphic Novel\\\"\",\" Maulana\\\"\\\": The Story of Muhammad\\\"\",\" Or Dead\\\"\\\" Film\\\"\",\" Redux!\\\"\",\" SYREN Modern Dance\\\"\",\" Shelter\",\" The Movement\\\"\",\" VICTORY\\\"\\\" PORPHYRA'S NEW EPIC METAL ALBUM\\\"\",\" and Burnouts\\\"\\\"\\\"\",\" and Sir Hound\\\"\\\" Child Fantasy Book\\\"\",\" and poetry\\\"\",\" and universal songs\\\"\",\" by Blule\\\"\",\" is coming your way!\\\"\",\" or Squeak!\\\"\",\" rhyming picture book!\\\"\",\"\\\"\\\" A Children's Book\\\"\"],\"labels\":[\"  I'll record a CD!!\\\"\\\"\\\"\",\" & Destiny\\\"\\\"\\\"\",\" Apollo\\\"\\\"!\\\"\",\" Graphic Novel\\\"\",\" Maulana\\\"\\\": The Story of Muhammad\\\"\",\" Or Dead\\\"\\\" Film\\\"\",\" Redux!\\\"\",\" SYREN Modern Dance\\\"\",\" Shelter\",\" The Movement\\\"\",\" VICTORY\\\"\\\" PORPHYRA'S NEW EPIC METAL ALBUM\\\"\",\" and Burnouts\\\"\\\"\\\"\",\" and Sir Hound\\\"\\\" Child Fantasy Book\\\"\",\" and poetry\\\"\",\" and universal songs\\\"\",\" by Blule\\\"\",\" is coming your way!\\\"\",\" or Squeak!\\\"\",\" rhyming picture book!\\\"\",\"\\\"\\\" A Children's Book\\\"\"],\"name\":\"\",\"parents\":[\"\",\"\",\"\",\"\",\"\",\"\",\"\",\"\",\"\",\"\",\"\",\"\",\"\",\"\",\"\",\"\",\"\",\"\",\"\",\"\"],\"values\":[15220.0,65500.9,10895.5,10112.0,13199.9,10647.0,16735.0,12506.0,77750.0,27029.88,10075.0,22540.0,7830.0,8230.0,25499.0,102909.06,7394.0,15024.0,11001.0,20123.47],\"type\":\"sunburst\"}],                        {\"template\":{\"data\":{\"histogram2dcontour\":[{\"type\":\"histogram2dcontour\",\"colorbar\":{\"outlinewidth\":0,\"ticks\":\"\"},\"colorscale\":[[0.0,\"#0d0887\"],[0.1111111111111111,\"#46039f\"],[0.2222222222222222,\"#7201a8\"],[0.3333333333333333,\"#9c179e\"],[0.4444444444444444,\"#bd3786\"],[0.5555555555555556,\"#d8576b\"],[0.6666666666666666,\"#ed7953\"],[0.7777777777777778,\"#fb9f3a\"],[0.8888888888888888,\"#fdca26\"],[1.0,\"#f0f921\"]]}],\"choropleth\":[{\"type\":\"choropleth\",\"colorbar\":{\"outlinewidth\":0,\"ticks\":\"\"}}],\"histogram2d\":[{\"type\":\"histogram2d\",\"colorbar\":{\"outlinewidth\":0,\"ticks\":\"\"},\"colorscale\":[[0.0,\"#0d0887\"],[0.1111111111111111,\"#46039f\"],[0.2222222222222222,\"#7201a8\"],[0.3333333333333333,\"#9c179e\"],[0.4444444444444444,\"#bd3786\"],[0.5555555555555556,\"#d8576b\"],[0.6666666666666666,\"#ed7953\"],[0.7777777777777778,\"#fb9f3a\"],[0.8888888888888888,\"#fdca26\"],[1.0,\"#f0f921\"]]}],\"heatmap\":[{\"type\":\"heatmap\",\"colorbar\":{\"outlinewidth\":0,\"ticks\":\"\"},\"colorscale\":[[0.0,\"#0d0887\"],[0.1111111111111111,\"#46039f\"],[0.2222222222222222,\"#7201a8\"],[0.3333333333333333,\"#9c179e\"],[0.4444444444444444,\"#bd3786\"],[0.5555555555555556,\"#d8576b\"],[0.6666666666666666,\"#ed7953\"],[0.7777777777777778,\"#fb9f3a\"],[0.8888888888888888,\"#fdca26\"],[1.0,\"#f0f921\"]]}],\"heatmapgl\":[{\"type\":\"heatmapgl\",\"colorbar\":{\"outlinewidth\":0,\"ticks\":\"\"},\"colorscale\":[[0.0,\"#0d0887\"],[0.1111111111111111,\"#46039f\"],[0.2222222222222222,\"#7201a8\"],[0.3333333333333333,\"#9c179e\"],[0.4444444444444444,\"#bd3786\"],[0.5555555555555556,\"#d8576b\"],[0.6666666666666666,\"#ed7953\"],[0.7777777777777778,\"#fb9f3a\"],[0.8888888888888888,\"#fdca26\"],[1.0,\"#f0f921\"]]}],\"contourcarpet\":[{\"type\":\"contourcarpet\",\"colorbar\":{\"outlinewidth\":0,\"ticks\":\"\"}}],\"contour\":[{\"type\":\"contour\",\"colorbar\":{\"outlinewidth\":0,\"ticks\":\"\"},\"colorscale\":[[0.0,\"#0d0887\"],[0.1111111111111111,\"#46039f\"],[0.2222222222222222,\"#7201a8\"],[0.3333333333333333,\"#9c179e\"],[0.4444444444444444,\"#bd3786\"],[0.5555555555555556,\"#d8576b\"],[0.6666666666666666,\"#ed7953\"],[0.7777777777777778,\"#fb9f3a\"],[0.8888888888888888,\"#fdca26\"],[1.0,\"#f0f921\"]]}],\"surface\":[{\"type\":\"surface\",\"colorbar\":{\"outlinewidth\":0,\"ticks\":\"\"},\"colorscale\":[[0.0,\"#0d0887\"],[0.1111111111111111,\"#46039f\"],[0.2222222222222222,\"#7201a8\"],[0.3333333333333333,\"#9c179e\"],[0.4444444444444444,\"#bd3786\"],[0.5555555555555556,\"#d8576b\"],[0.6666666666666666,\"#ed7953\"],[0.7777777777777778,\"#fb9f3a\"],[0.8888888888888888,\"#fdca26\"],[1.0,\"#f0f921\"]]}],\"mesh3d\":[{\"type\":\"mesh3d\",\"colorbar\":{\"outlinewidth\":0,\"ticks\":\"\"}}],\"scatter\":[{\"fillpattern\":{\"fillmode\":\"overlay\",\"size\":10,\"solidity\":0.2},\"type\":\"scatter\"}],\"parcoords\":[{\"type\":\"parcoords\",\"line\":{\"colorbar\":{\"outlinewidth\":0,\"ticks\":\"\"}}}],\"scatterpolargl\":[{\"type\":\"scatterpolargl\",\"marker\":{\"colorbar\":{\"outlinewidth\":0,\"ticks\":\"\"}}}],\"bar\":[{\"error_x\":{\"color\":\"#2a3f5f\"},\"error_y\":{\"color\":\"#2a3f5f\"},\"marker\":{\"line\":{\"color\":\"#E5ECF6\",\"width\":0.5},\"pattern\":{\"fillmode\":\"overlay\",\"size\":10,\"solidity\":0.2}},\"type\":\"bar\"}],\"scattergeo\":[{\"type\":\"scattergeo\",\"marker\":{\"colorbar\":{\"outlinewidth\":0,\"ticks\":\"\"}}}],\"scatterpolar\":[{\"type\":\"scatterpolar\",\"marker\":{\"colorbar\":{\"outlinewidth\":0,\"ticks\":\"\"}}}],\"histogram\":[{\"marker\":{\"pattern\":{\"fillmode\":\"overlay\",\"size\":10,\"solidity\":0.2}},\"type\":\"histogram\"}],\"scattergl\":[{\"type\":\"scattergl\",\"marker\":{\"colorbar\":{\"outlinewidth\":0,\"ticks\":\"\"}}}],\"scatter3d\":[{\"type\":\"scatter3d\",\"line\":{\"colorbar\":{\"outlinewidth\":0,\"ticks\":\"\"}},\"marker\":{\"colorbar\":{\"outlinewidth\":0,\"ticks\":\"\"}}}],\"scattermapbox\":[{\"type\":\"scattermapbox\",\"marker\":{\"colorbar\":{\"outlinewidth\":0,\"ticks\":\"\"}}}],\"scatterternary\":[{\"type\":\"scatterternary\",\"marker\":{\"colorbar\":{\"outlinewidth\":0,\"ticks\":\"\"}}}],\"scattercarpet\":[{\"type\":\"scattercarpet\",\"marker\":{\"colorbar\":{\"outlinewidth\":0,\"ticks\":\"\"}}}],\"carpet\":[{\"aaxis\":{\"endlinecolor\":\"#2a3f5f\",\"gridcolor\":\"white\",\"linecolor\":\"white\",\"minorgridcolor\":\"white\",\"startlinecolor\":\"#2a3f5f\"},\"baxis\":{\"endlinecolor\":\"#2a3f5f\",\"gridcolor\":\"white\",\"linecolor\":\"white\",\"minorgridcolor\":\"white\",\"startlinecolor\":\"#2a3f5f\"},\"type\":\"carpet\"}],\"table\":[{\"cells\":{\"fill\":{\"color\":\"#EBF0F8\"},\"line\":{\"color\":\"white\"}},\"header\":{\"fill\":{\"color\":\"#C8D4E3\"},\"line\":{\"color\":\"white\"}},\"type\":\"table\"}],\"barpolar\":[{\"marker\":{\"line\":{\"color\":\"#E5ECF6\",\"width\":0.5},\"pattern\":{\"fillmode\":\"overlay\",\"size\":10,\"solidity\":0.2}},\"type\":\"barpolar\"}],\"pie\":[{\"automargin\":true,\"type\":\"pie\"}]},\"layout\":{\"autotypenumbers\":\"strict\",\"colorway\":[\"#636efa\",\"#EF553B\",\"#00cc96\",\"#ab63fa\",\"#FFA15A\",\"#19d3f3\",\"#FF6692\",\"#B6E880\",\"#FF97FF\",\"#FECB52\"],\"font\":{\"color\":\"#2a3f5f\"},\"hovermode\":\"closest\",\"hoverlabel\":{\"align\":\"left\"},\"paper_bgcolor\":\"white\",\"plot_bgcolor\":\"#E5ECF6\",\"polar\":{\"bgcolor\":\"#E5ECF6\",\"angularaxis\":{\"gridcolor\":\"white\",\"linecolor\":\"white\",\"ticks\":\"\"},\"radialaxis\":{\"gridcolor\":\"white\",\"linecolor\":\"white\",\"ticks\":\"\"}},\"ternary\":{\"bgcolor\":\"#E5ECF6\",\"aaxis\":{\"gridcolor\":\"white\",\"linecolor\":\"white\",\"ticks\":\"\"},\"baxis\":{\"gridcolor\":\"white\",\"linecolor\":\"white\",\"ticks\":\"\"},\"caxis\":{\"gridcolor\":\"white\",\"linecolor\":\"white\",\"ticks\":\"\"}},\"coloraxis\":{\"colorbar\":{\"outlinewidth\":0,\"ticks\":\"\"}},\"colorscale\":{\"sequential\":[[0.0,\"#0d0887\"],[0.1111111111111111,\"#46039f\"],[0.2222222222222222,\"#7201a8\"],[0.3333333333333333,\"#9c179e\"],[0.4444444444444444,\"#bd3786\"],[0.5555555555555556,\"#d8576b\"],[0.6666666666666666,\"#ed7953\"],[0.7777777777777778,\"#fb9f3a\"],[0.8888888888888888,\"#fdca26\"],[1.0,\"#f0f921\"]],\"sequentialminus\":[[0.0,\"#0d0887\"],[0.1111111111111111,\"#46039f\"],[0.2222222222222222,\"#7201a8\"],[0.3333333333333333,\"#9c179e\"],[0.4444444444444444,\"#bd3786\"],[0.5555555555555556,\"#d8576b\"],[0.6666666666666666,\"#ed7953\"],[0.7777777777777778,\"#fb9f3a\"],[0.8888888888888888,\"#fdca26\"],[1.0,\"#f0f921\"]],\"diverging\":[[0,\"#8e0152\"],[0.1,\"#c51b7d\"],[0.2,\"#de77ae\"],[0.3,\"#f1b6da\"],[0.4,\"#fde0ef\"],[0.5,\"#f7f7f7\"],[0.6,\"#e6f5d0\"],[0.7,\"#b8e186\"],[0.8,\"#7fbc41\"],[0.9,\"#4d9221\"],[1,\"#276419\"]]},\"xaxis\":{\"gridcolor\":\"white\",\"linecolor\":\"white\",\"ticks\":\"\",\"title\":{\"standoff\":15},\"zerolinecolor\":\"white\",\"automargin\":true,\"zerolinewidth\":2},\"yaxis\":{\"gridcolor\":\"white\",\"linecolor\":\"white\",\"ticks\":\"\",\"title\":{\"standoff\":15},\"zerolinecolor\":\"white\",\"automargin\":true,\"zerolinewidth\":2},\"scene\":{\"xaxis\":{\"backgroundcolor\":\"#E5ECF6\",\"gridcolor\":\"white\",\"linecolor\":\"white\",\"showbackground\":true,\"ticks\":\"\",\"zerolinecolor\":\"white\",\"gridwidth\":2},\"yaxis\":{\"backgroundcolor\":\"#E5ECF6\",\"gridcolor\":\"white\",\"linecolor\":\"white\",\"showbackground\":true,\"ticks\":\"\",\"zerolinecolor\":\"white\",\"gridwidth\":2},\"zaxis\":{\"backgroundcolor\":\"#E5ECF6\",\"gridcolor\":\"white\",\"linecolor\":\"white\",\"showbackground\":true,\"ticks\":\"\",\"zerolinecolor\":\"white\",\"gridwidth\":2}},\"shapedefaults\":{\"line\":{\"color\":\"#2a3f5f\"}},\"annotationdefaults\":{\"arrowcolor\":\"#2a3f5f\",\"arrowhead\":0,\"arrowwidth\":1},\"geo\":{\"bgcolor\":\"white\",\"landcolor\":\"#E5ECF6\",\"subunitcolor\":\"white\",\"showland\":true,\"showlakes\":true,\"lakecolor\":\"white\"},\"title\":{\"x\":0.05},\"mapbox\":{\"style\":\"light\"}}},\"legend\":{\"tracegroupgap\":0},\"title\":{\"text\":\"Average Number of Backers by Main Category (Top 20)\"}},                        {\"responsive\": true}                    ).then(function(){\n",
              "                            \n",
              "var gd = document.getElementById('a7cf3e3d-de7f-4768-b818-c12d78dceca2');\n",
              "var x = new MutationObserver(function (mutations, observer) {{\n",
              "        var display = window.getComputedStyle(gd).display;\n",
              "        if (!display || display === 'none') {{\n",
              "            console.log([gd, 'removed!']);\n",
              "            Plotly.purge(gd);\n",
              "            observer.disconnect();\n",
              "        }}\n",
              "}});\n",
              "\n",
              "// Listen for the removal of the full notebook cells\n",
              "var notebookContainer = gd.closest('#notebook-container');\n",
              "if (notebookContainer) {{\n",
              "    x.observe(notebookContainer, {childList: true});\n",
              "}}\n",
              "\n",
              "// Listen for the clearing of the current output cell\n",
              "var outputEl = gd.closest('.output');\n",
              "if (outputEl) {{\n",
              "    x.observe(outputEl, {childList: true});\n",
              "}}\n",
              "\n",
              "                        })                };                            </script>        </div>\n",
              "</body>\n",
              "</html>"
            ]
          },
          "metadata": {}
        }
      ]
    },
    {
      "cell_type": "code",
      "source": [
        "# Visualization using Treemap\n",
        "import plotly.express as px\n",
        "\n",
        "fig = px.treemap(avg_backers_by_category.toPandas(), path=['main_category'], values='avg_backers', title='Average Number of Backers by Main Category')\n",
        "fig.show()\n"
      ],
      "metadata": {
        "colab": {
          "base_uri": "https://localhost:8080/",
          "height": 542
        },
        "id": "Vkr4wn0E9PWS",
        "outputId": "bf394c67-9e59-4142-b301-4352eabdfe57"
      },
      "execution_count": 45,
      "outputs": [
        {
          "output_type": "display_data",
          "data": {
            "text/html": [
              "<html>\n",
              "<head><meta charset=\"utf-8\" /></head>\n",
              "<body>\n",
              "    <div>            <script src=\"https://cdnjs.cloudflare.com/ajax/libs/mathjax/2.7.5/MathJax.js?config=TeX-AMS-MML_SVG\"></script><script type=\"text/javascript\">if (window.MathJax && window.MathJax.Hub && window.MathJax.Hub.Config) {window.MathJax.Hub.Config({SVG: {font: \"STIX-Web\"}});}</script>                <script type=\"text/javascript\">window.PlotlyConfig = {MathJaxConfig: 'local'};</script>\n",
              "        <script charset=\"utf-8\" src=\"https://cdn.plot.ly/plotly-2.24.1.min.js\"></script>                <div id=\"ef15ba50-810b-4fda-8850-6c97f5e15629\" class=\"plotly-graph-div\" style=\"height:525px; width:100%;\"></div>            <script type=\"text/javascript\">                                    window.PLOTLYENV=window.PLOTLYENV || {};                                    if (document.getElementById(\"ef15ba50-810b-4fda-8850-6c97f5e15629\")) {                    Plotly.newPlot(                        \"ef15ba50-810b-4fda-8850-6c97f5e15629\",                        [{\"branchvalues\":\"total\",\"domain\":{\"x\":[0.0,1.0],\"y\":[0.0,1.0]},\"hovertemplate\":\"labels=%{label}\\u003cbr\\u003eavg_backers=%{value}\\u003cbr\\u003eparent=%{parent}\\u003cbr\\u003eid=%{id}\\u003cextra\\u003e\\u003c\\u002fextra\\u003e\",\"ids\":[\"  I'll record a CD!!\\\"\\\"\\\"\",\" & A Little Eroticism\\\"\\\" A Future Good Read\\\"\",\" & Chill\\\"\\\".\\\"\",\" & Destiny\\\"\\\"\\\"\",\" & Doc.-KICKSTART!\\\"\",\" & Lincoln will come.\\\"\\\"\\\"\",\" & MADMAN!\\\"\\\"\\\"\",\" & Mayhem\\\"\\\"\\\"\",\" & RPG\\\"\",\" & the Fj\\u00f8rd Side\\\"\\\"\\\"\",\" 110 pages)\\\"\",\" 13th CD Project\\\"\",\" 2010\",\" A Country\\\"\\\"\\\"\",\" A Life\\\"\",\" A Romantic Comedy\\u002f Drama\\\"\",\" Acrylic\\u002fCanvas\\\"\",\" Alternate Universes\\\"\",\" Anthony Romero \\\"\",\" Apollo\\\"\\\"!\\\"\",\" Art\",\" Art.\\\"\",\" BBQ Smoker Packs\\\"\",\" Babel\\\"\\\" Kids Comic\\\"\",\" Beat\\\"\\\"\\\"\",\" Blood\",\" Brooklyn\\\"\",\" CD\",\" Cakepops & More!\\\"\",\" Callous and Kinky\\\"\\\"\\\"\",\" Christ-based RPG for GAMERS!\\\"\",\" Editorial-Narrative thesis film by Lewis Meyer\\\"\",\" Etc\\\"\",\" Fiction Novel\\\"\",\" Free Shipping\\\"\",\" Fun\\\"\\\" (+18 Recommended)\\\"\",\" Georgia!\\\"\",\" Give 1\\\"\",\" Good Samarittan\\\"\",\" Graphic Novel\\\"\",\" Human Organism?\\\"\\\"\\\"\",\" I am not drunk.\\\"\\\"\\\"\",\" IHOP-KC\\\"\",\" Jewish Card Game\\\"\",\" Lifestyle Magazine. (Canceled)\\\"\",\" Living Beyond The Lies.\\\"\",\" MLB\",\" MONSTERS & ME\\\"\\\" a DVD release\\\"\",\" Made With Love\\\"\\\"\\\"\",\" Make It...\\\"\\\"\\\"\",\" Maulana\\\"\\\": The Story of Muhammad\\\"\",\" Merchandise\\\"\",\" Motorcycles & Cars\\\"\\\"\\\"\",\" Mr. Bluesman\\\"\\\" Album Fund\\\"\",\" Music\\\"\",\" My Golden Child.\\\"\\\"\\\"\",\" Mystic\",\" NY\\\"\",\" Nathan Kistler\\\"\",\" New Animated Web Series\\\"\",\" No Reason Not To...\\\"\\\" An Autobiography\\\"\",\" Now Change!\\\"\\\"\\\"\",\" O.S.\\\"\",\" OUYA and PC\\\"\",\" Okla)\\\"\",\" Or Dead\\\"\\\" Film\\\"\",\" PS\",\" Pour!\\\"\\\"\\\"\",\" Power From Fossil Fuel.\\\"\\\"\\\"\",\" Project Film\\u002fEducate\\\"\",\" Pub and More!\\\"\",\" RAW & REAL\\\"\\\" - New 6 Song EP by Sonia Harley!!!\\\"\",\" Raunchy Comedy\\\"\",\" Real\\\"\\\"\\\"\",\" Rediscovery\\\"\",\" Redux!\\\"\",\" SYREN Modern Dance\\\"\",\" Shelter\",\" Sleep Well...\\\"\",\" Smile\\\"\\\"\\\"\",\" Some Eyeballs!\\\"\",\" Stalker Letter!\\\"\",\" T-Shirt\\\"\",\" TV\",\" TV Show\",\" TX\\\"\",\" The Eugene Bullard Story\\\"\",\" The Grays\\\"\\\"\\\"\",\" The Life\\\"\",\" The Movement\\\"\",\" Things\\\"\\\"\\\"\",\" Thriller- \\\"\",\" Tn.\\\"\",\" Trophy & Tailgate\\\"\",\" True Story\\\"\",\" Undone\\\"\\\"... a little late in life.\\\"\",\" VICTORY\\\"\\\" PORPHYRA'S NEW EPIC METAL ALBUM\\\"\",\" Wake\",\" We Need You!\\\"\",\" Wind\",\" Windows Phone...)\\\"\",\" World Music Album\\\"\",\" a Novel\\\"\",\" a coming of age film.\\\"\",\" a full LP.\\u201d\\\"\",\" a new Web-Series about Show-biz\\\"\",\" abandoned\",\" action figure\\\"\",\" and A' Holes\\\"\",\" and Absurdities\\\"\",\" and Art\\\"\",\" and Burnouts\\\"\\\"\\\"\",\" and Career Related Relocation.\\\"\",\" and Color\\\"\\\"\\\"\",\" and English\\\"\",\" and Everything Between\\\"\\\"\\\"\",\" and FRAGRANCE\\\"\",\" and Fears\\\"\\\" A Documentary\\\"\",\" and Forgiveness\\\"\",\" and Hair that Twirls!\\\"\\\"\\\"\",\" and Knock it in\\\"\\\"\\\"\",\" and Love\\\"\\\"\\\"\",\" and Production Project\\\"\",\" and Rebecca\\\"\",\" and Release!\\\"\",\" and Rubs!\\\"\",\" and Sir Hound\\\"\\\" Child Fantasy Book\\\"\",\" and Spiritual Songs\\\"\\\"\\\"\",\" and Sticker\\\"\",\" and Things\\\"\\\" - A Blue View Cinema short film\\\"\",\" and Tragedies\\\"\\\" Album\\\"\",\" and Villains\\\"\\\".\\\"\",\" and Zombies\\\"\",\" and a wish\\\"\",\" and be Married - Highland Style\\\"\\\"\\\"\",\" and engage your imagination.\\\"\",\" and foot rest\\\"\",\" and lies\\\"\",\" and life...\\\"\",\" and mysticism.\\\"\",\" and poetry\\\"\",\" and the Baker\\\"\\\"\\\"\",\" and the Power of the Human Mind\\\"\\\" Book\\\"\",\" and the Storm King\\\"\\\" published!\\\"\",\" and two smoking tailpipes\\\"\\\"\\\"\",\" and universal songs\\\"\",\" and yellow.\\\"\\\" By Kyle South\\\"\",\" and you.\\\"\",\" another study of visual relationships\\\"\",\" at Theatre Royal Stratford East\\\"\",\" bar \\u00e0 tapas #facebook\\\"\",\" book tour)\\\"\",\" but ...\\\"\",\" but you don't know\\\"\\\"\\\"\",\" by Blule\\\"\",\" camping\",\" coming this Fall.\\\"\",\" eh?\\\"\",\" etc.\\\"\",\" hard rock\",\" hosted by Patch Frasca\\\"\",\" in beautiful 35mm!\\\"\",\" independent theatre. (Canceled)\\\"\",\" intelligent highly trained agent.\\\"\",\" is coming your way!\\\"\",\" it is time!\\\"\",\" it's a movement!\\\"\",\" later works of Kory Wilcox\\\"\",\" loneliness\\\"\",\" mate.\\\"\\\"\\\"\",\" music and theater from the African Diaspora.\\\"\",\" music vids)\\\"\",\" newest\\\"\",\" on the fly\",\" or Squeak!\\\"\",\" otherness and Israel - Palestine\\\"\",\" respect.\\\"\",\" rhyming picture book!\\\"\",\" rock photography.\\\"\",\" studio\\\"\",\" the debut album by Hoglen & Wages\\\"\",\" theatre\\\"\",\" to Living\\\"\\\"\\\"\",\" to the Shadow of a Mouse\\\"\",\" tour\",\" twisted comedy about sexual identity.\\\"\",\" wireless speaker\\\"\",\"\\\"\\\" A Children's Book\\\"\",\"\\\"\\\" Picture Book project\\\"\",\"\\\"\\\" a documentary film project\\\"\",\"\\\"\\\" a new album from Leftmore.\\\"\",\"\\\"\\\" etc. CD Releases\\\"\",\"\\\"\\\"Or\\\"\\\"\",\"000\",\"3 WITH JAMIE DUNDEE\\\"\\\" and brice\\\"\",\"5\\\"\",\"6\\\"\\\" (EP)\\\"\",\"7\\\"\\\"\\\"\",\"Academic\",\"Accessories\",\"Action\",\"Animals\",\"Animation\",\"Apparel\",\"Apps\",\"Architecture\",\"Art\",\"Art Books\",\"Blues\",\"Ceramics\",\"Children's Books\",\"Chiptune\",\"Civic Design\",\"Classical Music\",\"Comedy\",\"Comic Books\",\"Comics\",\"Conceptual Art\",\"Cookbooks\",\"Country & Folk\",\"Crafts\",\"DIY\",\"DIY Electronics\",\"DJembryonicpetitsac\\\"\",\"Dance\",\"Design\",\"Digital Art\",\"Documentary\",\"Drama\",\"Drinks\",\"Electronic Music\",\"Evolutionise\\\"\\\" by TDI\\\"\",\"Experimental\",\"Faith\",\"Family\",\"Fantasy\",\"Farmer's Markets\",\"Fashion\",\"Festivals\",\"Fiction\",\"Film & Video\",\"Fine Art\",\"Flight\",\"Food\",\"Food Trucks\",\"Footwear\",\"Gadgets\",\"Games\",\"Graphic Design\",\"Graphic Novels\",\"Hardware\",\"Hip-Hop\",\"Horror\",\"Illustration\",\"Indie Rock\",\"Jazz\",\"Journalism\",\"Kids\",\"Latin\",\"Live Games\",\"Mixed Media\",\"Mobile Games\",\"Movie Theaters\",\"Music\",\"Music Videos\",\"Musical\",\"Narrative Film\",\"Nonfiction\",\"Painting\",\"People\",\"Performance Art\",\"Performances\",\"Periodicals\",\"Photo\",\"Photobooks\",\"Photography\",\"Places\",\"Plays\",\"Poetry\",\"Pop\",\"Print\",\"Printing\",\"Product Design\",\"Public Art\",\"Publishing\",\"Punk\",\"Puzzles\",\"R&B\",\"Ready-to-wear\",\"Restaurants\",\"Rock\",\"Science Fiction\",\"Sculpture\",\"Shorts\",\"Small Batch\",\"Software\",\"Space Exploration\",\"TV Show\",\"Tabletop Games\",\"Taxidermy\",\"Technology\",\"Textiles\",\"Theater\",\"Thrillers\",\"Topper\\\"\\\" Cross Country Comedy Documentary\\\"\",\"Translations\",\"Video\",\"Video Games\",\"Weaving\",\"Web\",\"Webcomics\",\"Webseries\",\"Woodworking\",\"World Music\",\"Young Adult\",\"Zines\",\"neckties\\\"\"],\"labels\":[\"  I'll record a CD!!\\\"\\\"\\\"\",\" & A Little Eroticism\\\"\\\" A Future Good Read\\\"\",\" & Chill\\\"\\\".\\\"\",\" & Destiny\\\"\\\"\\\"\",\" & Doc.-KICKSTART!\\\"\",\" & Lincoln will come.\\\"\\\"\\\"\",\" & MADMAN!\\\"\\\"\\\"\",\" & Mayhem\\\"\\\"\\\"\",\" & RPG\\\"\",\" & the Fj\\u00f8rd Side\\\"\\\"\\\"\",\" 110 pages)\\\"\",\" 13th CD Project\\\"\",\" 2010\",\" A Country\\\"\\\"\\\"\",\" A Life\\\"\",\" A Romantic Comedy\\u002f Drama\\\"\",\" Acrylic\\u002fCanvas\\\"\",\" Alternate Universes\\\"\",\" Anthony Romero \\\"\",\" Apollo\\\"\\\"!\\\"\",\" Art\",\" Art.\\\"\",\" BBQ Smoker Packs\\\"\",\" Babel\\\"\\\" Kids Comic\\\"\",\" Beat\\\"\\\"\\\"\",\" Blood\",\" Brooklyn\\\"\",\" CD\",\" Cakepops & More!\\\"\",\" Callous and Kinky\\\"\\\"\\\"\",\" Christ-based RPG for GAMERS!\\\"\",\" Editorial-Narrative thesis film by Lewis Meyer\\\"\",\" Etc\\\"\",\" Fiction Novel\\\"\",\" Free Shipping\\\"\",\" Fun\\\"\\\" (+18 Recommended)\\\"\",\" Georgia!\\\"\",\" Give 1\\\"\",\" Good Samarittan\\\"\",\" Graphic Novel\\\"\",\" Human Organism?\\\"\\\"\\\"\",\" I am not drunk.\\\"\\\"\\\"\",\" IHOP-KC\\\"\",\" Jewish Card Game\\\"\",\" Lifestyle Magazine. (Canceled)\\\"\",\" Living Beyond The Lies.\\\"\",\" MLB\",\" MONSTERS & ME\\\"\\\" a DVD release\\\"\",\" Made With Love\\\"\\\"\\\"\",\" Make It...\\\"\\\"\\\"\",\" Maulana\\\"\\\": The Story of Muhammad\\\"\",\" Merchandise\\\"\",\" Motorcycles & Cars\\\"\\\"\\\"\",\" Mr. Bluesman\\\"\\\" Album Fund\\\"\",\" Music\\\"\",\" My Golden Child.\\\"\\\"\\\"\",\" Mystic\",\" NY\\\"\",\" Nathan Kistler\\\"\",\" New Animated Web Series\\\"\",\" No Reason Not To...\\\"\\\" An Autobiography\\\"\",\" Now Change!\\\"\\\"\\\"\",\" O.S.\\\"\",\" OUYA and PC\\\"\",\" Okla)\\\"\",\" Or Dead\\\"\\\" Film\\\"\",\" PS\",\" Pour!\\\"\\\"\\\"\",\" Power From Fossil Fuel.\\\"\\\"\\\"\",\" Project Film\\u002fEducate\\\"\",\" Pub and More!\\\"\",\" RAW & REAL\\\"\\\" - New 6 Song EP by Sonia Harley!!!\\\"\",\" Raunchy Comedy\\\"\",\" Real\\\"\\\"\\\"\",\" Rediscovery\\\"\",\" Redux!\\\"\",\" SYREN Modern Dance\\\"\",\" Shelter\",\" Sleep Well...\\\"\",\" Smile\\\"\\\"\\\"\",\" Some Eyeballs!\\\"\",\" Stalker Letter!\\\"\",\" T-Shirt\\\"\",\" TV\",\" TV Show\",\" TX\\\"\",\" The Eugene Bullard Story\\\"\",\" The Grays\\\"\\\"\\\"\",\" The Life\\\"\",\" The Movement\\\"\",\" Things\\\"\\\"\\\"\",\" Thriller- \\\"\",\" Tn.\\\"\",\" Trophy & Tailgate\\\"\",\" True Story\\\"\",\" Undone\\\"\\\"... a little late in life.\\\"\",\" VICTORY\\\"\\\" PORPHYRA'S NEW EPIC METAL ALBUM\\\"\",\" Wake\",\" We Need You!\\\"\",\" Wind\",\" Windows Phone...)\\\"\",\" World Music Album\\\"\",\" a Novel\\\"\",\" a coming of age film.\\\"\",\" a full LP.\\u201d\\\"\",\" a new Web-Series about Show-biz\\\"\",\" abandoned\",\" action figure\\\"\",\" and A' Holes\\\"\",\" and Absurdities\\\"\",\" and Art\\\"\",\" and Burnouts\\\"\\\"\\\"\",\" and Career Related Relocation.\\\"\",\" and Color\\\"\\\"\\\"\",\" and English\\\"\",\" and Everything Between\\\"\\\"\\\"\",\" and FRAGRANCE\\\"\",\" and Fears\\\"\\\" A Documentary\\\"\",\" and Forgiveness\\\"\",\" and Hair that Twirls!\\\"\\\"\\\"\",\" and Knock it in\\\"\\\"\\\"\",\" and Love\\\"\\\"\\\"\",\" and Production Project\\\"\",\" and Rebecca\\\"\",\" and Release!\\\"\",\" and Rubs!\\\"\",\" and Sir Hound\\\"\\\" Child Fantasy Book\\\"\",\" and Spiritual Songs\\\"\\\"\\\"\",\" and Sticker\\\"\",\" and Things\\\"\\\" - A Blue View Cinema short film\\\"\",\" and Tragedies\\\"\\\" Album\\\"\",\" and Villains\\\"\\\".\\\"\",\" and Zombies\\\"\",\" and a wish\\\"\",\" and be Married - Highland Style\\\"\\\"\\\"\",\" and engage your imagination.\\\"\",\" and foot rest\\\"\",\" and lies\\\"\",\" and life...\\\"\",\" and mysticism.\\\"\",\" and poetry\\\"\",\" and the Baker\\\"\\\"\\\"\",\" and the Power of the Human Mind\\\"\\\" Book\\\"\",\" and the Storm King\\\"\\\" published!\\\"\",\" and two smoking tailpipes\\\"\\\"\\\"\",\" and universal songs\\\"\",\" and yellow.\\\"\\\" By Kyle South\\\"\",\" and you.\\\"\",\" another study of visual relationships\\\"\",\" at Theatre Royal Stratford East\\\"\",\" bar \\u00e0 tapas #facebook\\\"\",\" book tour)\\\"\",\" but ...\\\"\",\" but you don't know\\\"\\\"\\\"\",\" by Blule\\\"\",\" camping\",\" coming this Fall.\\\"\",\" eh?\\\"\",\" etc.\\\"\",\" hard rock\",\" hosted by Patch Frasca\\\"\",\" in beautiful 35mm!\\\"\",\" independent theatre. (Canceled)\\\"\",\" intelligent highly trained agent.\\\"\",\" is coming your way!\\\"\",\" it is time!\\\"\",\" it's a movement!\\\"\",\" later works of Kory Wilcox\\\"\",\" loneliness\\\"\",\" mate.\\\"\\\"\\\"\",\" music and theater from the African Diaspora.\\\"\",\" music vids)\\\"\",\" newest\\\"\",\" on the fly\",\" or Squeak!\\\"\",\" otherness and Israel - Palestine\\\"\",\" respect.\\\"\",\" rhyming picture book!\\\"\",\" rock photography.\\\"\",\" studio\\\"\",\" the debut album by Hoglen & Wages\\\"\",\" theatre\\\"\",\" to Living\\\"\\\"\\\"\",\" to the Shadow of a Mouse\\\"\",\" tour\",\" twisted comedy about sexual identity.\\\"\",\" wireless speaker\\\"\",\"\\\"\\\" A Children's Book\\\"\",\"\\\"\\\" Picture Book project\\\"\",\"\\\"\\\" a documentary film project\\\"\",\"\\\"\\\" a new album from Leftmore.\\\"\",\"\\\"\\\" etc. CD Releases\\\"\",\"\\\"\\\"Or\\\"\\\"\",\"000\",\"3 WITH JAMIE DUNDEE\\\"\\\" and brice\\\"\",\"5\\\"\",\"6\\\"\\\" (EP)\\\"\",\"7\\\"\\\"\\\"\",\"Academic\",\"Accessories\",\"Action\",\"Animals\",\"Animation\",\"Apparel\",\"Apps\",\"Architecture\",\"Art\",\"Art Books\",\"Blues\",\"Ceramics\",\"Children's Books\",\"Chiptune\",\"Civic Design\",\"Classical Music\",\"Comedy\",\"Comic Books\",\"Comics\",\"Conceptual Art\",\"Cookbooks\",\"Country & Folk\",\"Crafts\",\"DIY\",\"DIY Electronics\",\"DJembryonicpetitsac\\\"\",\"Dance\",\"Design\",\"Digital Art\",\"Documentary\",\"Drama\",\"Drinks\",\"Electronic Music\",\"Evolutionise\\\"\\\" by TDI\\\"\",\"Experimental\",\"Faith\",\"Family\",\"Fantasy\",\"Farmer's Markets\",\"Fashion\",\"Festivals\",\"Fiction\",\"Film & Video\",\"Fine Art\",\"Flight\",\"Food\",\"Food Trucks\",\"Footwear\",\"Gadgets\",\"Games\",\"Graphic Design\",\"Graphic Novels\",\"Hardware\",\"Hip-Hop\",\"Horror\",\"Illustration\",\"Indie Rock\",\"Jazz\",\"Journalism\",\"Kids\",\"Latin\",\"Live Games\",\"Mixed Media\",\"Mobile Games\",\"Movie Theaters\",\"Music\",\"Music Videos\",\"Musical\",\"Narrative Film\",\"Nonfiction\",\"Painting\",\"People\",\"Performance Art\",\"Performances\",\"Periodicals\",\"Photo\",\"Photobooks\",\"Photography\",\"Places\",\"Plays\",\"Poetry\",\"Pop\",\"Print\",\"Printing\",\"Product Design\",\"Public Art\",\"Publishing\",\"Punk\",\"Puzzles\",\"R&B\",\"Ready-to-wear\",\"Restaurants\",\"Rock\",\"Science Fiction\",\"Sculpture\",\"Shorts\",\"Small Batch\",\"Software\",\"Space Exploration\",\"TV Show\",\"Tabletop Games\",\"Taxidermy\",\"Technology\",\"Textiles\",\"Theater\",\"Thrillers\",\"Topper\\\"\\\" Cross Country Comedy Documentary\\\"\",\"Translations\",\"Video\",\"Video Games\",\"Weaving\",\"Web\",\"Webcomics\",\"Webseries\",\"Woodworking\",\"World Music\",\"Young Adult\",\"Zines\",\"neckties\\\"\"],\"name\":\"\",\"parents\":[\"\",\"\",\"\",\"\",\"\",\"\",\"\",\"\",\"\",\"\",\"\",\"\",\"\",\"\",\"\",\"\",\"\",\"\",\"\",\"\",\"\",\"\",\"\",\"\",\"\",\"\",\"\",\"\",\"\",\"\",\"\",\"\",\"\",\"\",\"\",\"\",\"\",\"\",\"\",\"\",\"\",\"\",\"\",\"\",\"\",\"\",\"\",\"\",\"\",\"\",\"\",\"\",\"\",\"\",\"\",\"\",\"\",\"\",\"\",\"\",\"\",\"\",\"\",\"\",\"\",\"\",\"\",\"\",\"\",\"\",\"\",\"\",\"\",\"\",\"\",\"\",\"\",\"\",\"\",\"\",\"\",\"\",\"\",\"\",\"\",\"\",\"\",\"\",\"\",\"\",\"\",\"\",\"\",\"\",\"\",\"\",\"\",\"\",\"\",\"\",\"\",\"\",\"\",\"\",\"\",\"\",\"\",\"\",\"\",\"\",\"\",\"\",\"\",\"\",\"\",\"\",\"\",\"\",\"\",\"\",\"\",\"\",\"\",\"\",\"\",\"\",\"\",\"\",\"\",\"\",\"\",\"\",\"\",\"\",\"\",\"\",\"\",\"\",\"\",\"\",\"\",\"\",\"\",\"\",\"\",\"\",\"\",\"\",\"\",\"\",\"\",\"\",\"\",\"\",\"\",\"\",\"\",\"\",\"\",\"\",\"\",\"\",\"\",\"\",\"\",\"\",\"\",\"\",\"\",\"\",\"\",\"\",\"\",\"\",\"\",\"\",\"\",\"\",\"\",\"\",\"\",\"\",\"\",\"\",\"\",\"\",\"\",\"\",\"\",\"\",\"\",\"\",\"\",\"\",\"\",\"\",\"\",\"\",\"\",\"\",\"\",\"\",\"\",\"\",\"\",\"\",\"\",\"\",\"\",\"\",\"\",\"\",\"\",\"\",\"\",\"\",\"\",\"\",\"\",\"\",\"\",\"\",\"\",\"\",\"\",\"\",\"\",\"\",\"\",\"\",\"\",\"\",\"\",\"\",\"\",\"\",\"\",\"\",\"\",\"\",\"\",\"\",\"\",\"\",\"\",\"\",\"\",\"\",\"\",\"\",\"\",\"\",\"\",\"\",\"\",\"\",\"\",\"\",\"\",\"\",\"\",\"\",\"\",\"\",\"\",\"\",\"\",\"\",\"\",\"\",\"\",\"\",\"\",\"\",\"\",\"\",\"\",\"\",\"\",\"\",\"\",\"\",\"\",\"\",\"\",\"\",\"\",\"\",\"\",\"\",\"\",\"\",\"\",\"\",\"\",\"\",\"\",\"\",\"\",\"\",\"\",\"\",\"\",\"\",\"\",\"\",\"\",\"\",\"\",\"\",\"\",\"\",\"\",\"\",\"\",\"\",\"\"],\"values\":[15220.0,0.0,0.0,65500.9,0.0,5338.0,296.0,1200.0,165.0,1332.0,6028.0,2395.25,0.0,0.0,0.0,0.0,0.0,1.0,692.0,10895.5,0.0,1655.0,671.0,150.0,230.0,0.0,5.0,0.0,75.0,2310.0,3096.0,2035.0,785.0,890.0,35.0,5.0,50.0,1701.0,0.0,10112.0,5165.0,2131.0,56.0,721.0,5.0,900.0,0.0,2466.0,20.0,0.0,13199.9,0.0,1050.0,3233.45,899.0,2565.0,0.0,55.0,301.0,5450.0,50.0,3050.0,346.0,12.0,0.0,10647.0,0.0,5147.0,150.0,0.0,141.0,655.0,2255.0,0.0,1.0,16735.0,12506.0,77750.0,125.0,300.0,1016.0,454.0,4872.0,0.0,0.0,0.0,1420.0,1794.78,346.0,27029.88,5805.0,0.0,5.0,5198.0,0.0,505.0,10075.0,0.0,740.0,0.0,0.0,1287.0,0.0,30.0,450.0,4100.25,0.0,415.0,0.0,2010.0,5600.0,22540.0,4167.18,615.0,10.0,25.0,931.0,0.0,176.0,0.0,1410.0,7061.0,1073.0,5122.0,70.0,6732.0,7830.0,1590.0,582.0,3030.0,2090.0,51.0,4889.0,7100.0,1.0,15.0,232.0,380.0,0.0,600.0,8230.0,1163.0,100.0,1792.0,0.0,25499.0,125.0,280.0,100.0,2550.0,211.0,0.0,3598.0,140.0,102909.06,0.0,1161.0,303.0,0.0,1750.0,55.0,3060.0,0.0,409.0,7394.0,0.0,0.0,3105.0,7026.0,4633.0,6779.0,0.0,3853.0,0.0,15024.0,620.0,4000.0,11001.0,1860.0,2966.0,110.0,5920.0,2052.0,1510.0,0.0,2555.0,555.0,20123.47,31.0,6402.43,3576.0,30.0,6300.0,0.0,106.0,365.0,0.0,125.0,0.0,0.0,0.0,0.0,0.0,0.0,0.0,0.0,42.32025838865961,0.0,0.0,0.0,0.0,0.0,0.0,0.0,0.0,0.0,135.53571095135842,0.0,0.0,0.0,27.47702005730659,0.0,0.0,1050.0,42.85775630703167,241.78397658063864,0.0,0.0,0.0,0.0,0.0,461.0,0.0,0.0,0.0,0.0,0.0,61.90911511493743,0.0,0.0,66.4164192139738,0.0,0.0,54.38528085280853,0.0,0.0,0.0,323.9299155090935,0.0,0.0,0.0,0.0,0.0,0.0,0.0,0.0,38.459120832448505,0.0,0.0,0.0,0.0,0.0,0.0,52.301334112377056,0.0,0.0,0.0,0.0,0.0,0.0,0.0,0.0,0.0,0.0,0.0,39.74399701018406,0.0,0.0,0.0,0.0,0.0,0.0,0.0,0.0,56.185898087876325,0.0,0.0,0.0,0.0,0.0,0.0,0.0,0.0,0.0,0.0,0.0,0.0,0.0,0.0,0.0,165.12819954592106,0.0,47.24772516248839,0.0,2210.0,0.0,0.0,0.0,0.0,0.0,0.0,0.0,0.0,0.0,0.0,0.0,150.0],\"type\":\"treemap\"}],                        {\"template\":{\"data\":{\"histogram2dcontour\":[{\"type\":\"histogram2dcontour\",\"colorbar\":{\"outlinewidth\":0,\"ticks\":\"\"},\"colorscale\":[[0.0,\"#0d0887\"],[0.1111111111111111,\"#46039f\"],[0.2222222222222222,\"#7201a8\"],[0.3333333333333333,\"#9c179e\"],[0.4444444444444444,\"#bd3786\"],[0.5555555555555556,\"#d8576b\"],[0.6666666666666666,\"#ed7953\"],[0.7777777777777778,\"#fb9f3a\"],[0.8888888888888888,\"#fdca26\"],[1.0,\"#f0f921\"]]}],\"choropleth\":[{\"type\":\"choropleth\",\"colorbar\":{\"outlinewidth\":0,\"ticks\":\"\"}}],\"histogram2d\":[{\"type\":\"histogram2d\",\"colorbar\":{\"outlinewidth\":0,\"ticks\":\"\"},\"colorscale\":[[0.0,\"#0d0887\"],[0.1111111111111111,\"#46039f\"],[0.2222222222222222,\"#7201a8\"],[0.3333333333333333,\"#9c179e\"],[0.4444444444444444,\"#bd3786\"],[0.5555555555555556,\"#d8576b\"],[0.6666666666666666,\"#ed7953\"],[0.7777777777777778,\"#fb9f3a\"],[0.8888888888888888,\"#fdca26\"],[1.0,\"#f0f921\"]]}],\"heatmap\":[{\"type\":\"heatmap\",\"colorbar\":{\"outlinewidth\":0,\"ticks\":\"\"},\"colorscale\":[[0.0,\"#0d0887\"],[0.1111111111111111,\"#46039f\"],[0.2222222222222222,\"#7201a8\"],[0.3333333333333333,\"#9c179e\"],[0.4444444444444444,\"#bd3786\"],[0.5555555555555556,\"#d8576b\"],[0.6666666666666666,\"#ed7953\"],[0.7777777777777778,\"#fb9f3a\"],[0.8888888888888888,\"#fdca26\"],[1.0,\"#f0f921\"]]}],\"heatmapgl\":[{\"type\":\"heatmapgl\",\"colorbar\":{\"outlinewidth\":0,\"ticks\":\"\"},\"colorscale\":[[0.0,\"#0d0887\"],[0.1111111111111111,\"#46039f\"],[0.2222222222222222,\"#7201a8\"],[0.3333333333333333,\"#9c179e\"],[0.4444444444444444,\"#bd3786\"],[0.5555555555555556,\"#d8576b\"],[0.6666666666666666,\"#ed7953\"],[0.7777777777777778,\"#fb9f3a\"],[0.8888888888888888,\"#fdca26\"],[1.0,\"#f0f921\"]]}],\"contourcarpet\":[{\"type\":\"contourcarpet\",\"colorbar\":{\"outlinewidth\":0,\"ticks\":\"\"}}],\"contour\":[{\"type\":\"contour\",\"colorbar\":{\"outlinewidth\":0,\"ticks\":\"\"},\"colorscale\":[[0.0,\"#0d0887\"],[0.1111111111111111,\"#46039f\"],[0.2222222222222222,\"#7201a8\"],[0.3333333333333333,\"#9c179e\"],[0.4444444444444444,\"#bd3786\"],[0.5555555555555556,\"#d8576b\"],[0.6666666666666666,\"#ed7953\"],[0.7777777777777778,\"#fb9f3a\"],[0.8888888888888888,\"#fdca26\"],[1.0,\"#f0f921\"]]}],\"surface\":[{\"type\":\"surface\",\"colorbar\":{\"outlinewidth\":0,\"ticks\":\"\"},\"colorscale\":[[0.0,\"#0d0887\"],[0.1111111111111111,\"#46039f\"],[0.2222222222222222,\"#7201a8\"],[0.3333333333333333,\"#9c179e\"],[0.4444444444444444,\"#bd3786\"],[0.5555555555555556,\"#d8576b\"],[0.6666666666666666,\"#ed7953\"],[0.7777777777777778,\"#fb9f3a\"],[0.8888888888888888,\"#fdca26\"],[1.0,\"#f0f921\"]]}],\"mesh3d\":[{\"type\":\"mesh3d\",\"colorbar\":{\"outlinewidth\":0,\"ticks\":\"\"}}],\"scatter\":[{\"fillpattern\":{\"fillmode\":\"overlay\",\"size\":10,\"solidity\":0.2},\"type\":\"scatter\"}],\"parcoords\":[{\"type\":\"parcoords\",\"line\":{\"colorbar\":{\"outlinewidth\":0,\"ticks\":\"\"}}}],\"scatterpolargl\":[{\"type\":\"scatterpolargl\",\"marker\":{\"colorbar\":{\"outlinewidth\":0,\"ticks\":\"\"}}}],\"bar\":[{\"error_x\":{\"color\":\"#2a3f5f\"},\"error_y\":{\"color\":\"#2a3f5f\"},\"marker\":{\"line\":{\"color\":\"#E5ECF6\",\"width\":0.5},\"pattern\":{\"fillmode\":\"overlay\",\"size\":10,\"solidity\":0.2}},\"type\":\"bar\"}],\"scattergeo\":[{\"type\":\"scattergeo\",\"marker\":{\"colorbar\":{\"outlinewidth\":0,\"ticks\":\"\"}}}],\"scatterpolar\":[{\"type\":\"scatterpolar\",\"marker\":{\"colorbar\":{\"outlinewidth\":0,\"ticks\":\"\"}}}],\"histogram\":[{\"marker\":{\"pattern\":{\"fillmode\":\"overlay\",\"size\":10,\"solidity\":0.2}},\"type\":\"histogram\"}],\"scattergl\":[{\"type\":\"scattergl\",\"marker\":{\"colorbar\":{\"outlinewidth\":0,\"ticks\":\"\"}}}],\"scatter3d\":[{\"type\":\"scatter3d\",\"line\":{\"colorbar\":{\"outlinewidth\":0,\"ticks\":\"\"}},\"marker\":{\"colorbar\":{\"outlinewidth\":0,\"ticks\":\"\"}}}],\"scattermapbox\":[{\"type\":\"scattermapbox\",\"marker\":{\"colorbar\":{\"outlinewidth\":0,\"ticks\":\"\"}}}],\"scatterternary\":[{\"type\":\"scatterternary\",\"marker\":{\"colorbar\":{\"outlinewidth\":0,\"ticks\":\"\"}}}],\"scattercarpet\":[{\"type\":\"scattercarpet\",\"marker\":{\"colorbar\":{\"outlinewidth\":0,\"ticks\":\"\"}}}],\"carpet\":[{\"aaxis\":{\"endlinecolor\":\"#2a3f5f\",\"gridcolor\":\"white\",\"linecolor\":\"white\",\"minorgridcolor\":\"white\",\"startlinecolor\":\"#2a3f5f\"},\"baxis\":{\"endlinecolor\":\"#2a3f5f\",\"gridcolor\":\"white\",\"linecolor\":\"white\",\"minorgridcolor\":\"white\",\"startlinecolor\":\"#2a3f5f\"},\"type\":\"carpet\"}],\"table\":[{\"cells\":{\"fill\":{\"color\":\"#EBF0F8\"},\"line\":{\"color\":\"white\"}},\"header\":{\"fill\":{\"color\":\"#C8D4E3\"},\"line\":{\"color\":\"white\"}},\"type\":\"table\"}],\"barpolar\":[{\"marker\":{\"line\":{\"color\":\"#E5ECF6\",\"width\":0.5},\"pattern\":{\"fillmode\":\"overlay\",\"size\":10,\"solidity\":0.2}},\"type\":\"barpolar\"}],\"pie\":[{\"automargin\":true,\"type\":\"pie\"}]},\"layout\":{\"autotypenumbers\":\"strict\",\"colorway\":[\"#636efa\",\"#EF553B\",\"#00cc96\",\"#ab63fa\",\"#FFA15A\",\"#19d3f3\",\"#FF6692\",\"#B6E880\",\"#FF97FF\",\"#FECB52\"],\"font\":{\"color\":\"#2a3f5f\"},\"hovermode\":\"closest\",\"hoverlabel\":{\"align\":\"left\"},\"paper_bgcolor\":\"white\",\"plot_bgcolor\":\"#E5ECF6\",\"polar\":{\"bgcolor\":\"#E5ECF6\",\"angularaxis\":{\"gridcolor\":\"white\",\"linecolor\":\"white\",\"ticks\":\"\"},\"radialaxis\":{\"gridcolor\":\"white\",\"linecolor\":\"white\",\"ticks\":\"\"}},\"ternary\":{\"bgcolor\":\"#E5ECF6\",\"aaxis\":{\"gridcolor\":\"white\",\"linecolor\":\"white\",\"ticks\":\"\"},\"baxis\":{\"gridcolor\":\"white\",\"linecolor\":\"white\",\"ticks\":\"\"},\"caxis\":{\"gridcolor\":\"white\",\"linecolor\":\"white\",\"ticks\":\"\"}},\"coloraxis\":{\"colorbar\":{\"outlinewidth\":0,\"ticks\":\"\"}},\"colorscale\":{\"sequential\":[[0.0,\"#0d0887\"],[0.1111111111111111,\"#46039f\"],[0.2222222222222222,\"#7201a8\"],[0.3333333333333333,\"#9c179e\"],[0.4444444444444444,\"#bd3786\"],[0.5555555555555556,\"#d8576b\"],[0.6666666666666666,\"#ed7953\"],[0.7777777777777778,\"#fb9f3a\"],[0.8888888888888888,\"#fdca26\"],[1.0,\"#f0f921\"]],\"sequentialminus\":[[0.0,\"#0d0887\"],[0.1111111111111111,\"#46039f\"],[0.2222222222222222,\"#7201a8\"],[0.3333333333333333,\"#9c179e\"],[0.4444444444444444,\"#bd3786\"],[0.5555555555555556,\"#d8576b\"],[0.6666666666666666,\"#ed7953\"],[0.7777777777777778,\"#fb9f3a\"],[0.8888888888888888,\"#fdca26\"],[1.0,\"#f0f921\"]],\"diverging\":[[0,\"#8e0152\"],[0.1,\"#c51b7d\"],[0.2,\"#de77ae\"],[0.3,\"#f1b6da\"],[0.4,\"#fde0ef\"],[0.5,\"#f7f7f7\"],[0.6,\"#e6f5d0\"],[0.7,\"#b8e186\"],[0.8,\"#7fbc41\"],[0.9,\"#4d9221\"],[1,\"#276419\"]]},\"xaxis\":{\"gridcolor\":\"white\",\"linecolor\":\"white\",\"ticks\":\"\",\"title\":{\"standoff\":15},\"zerolinecolor\":\"white\",\"automargin\":true,\"zerolinewidth\":2},\"yaxis\":{\"gridcolor\":\"white\",\"linecolor\":\"white\",\"ticks\":\"\",\"title\":{\"standoff\":15},\"zerolinecolor\":\"white\",\"automargin\":true,\"zerolinewidth\":2},\"scene\":{\"xaxis\":{\"backgroundcolor\":\"#E5ECF6\",\"gridcolor\":\"white\",\"linecolor\":\"white\",\"showbackground\":true,\"ticks\":\"\",\"zerolinecolor\":\"white\",\"gridwidth\":2},\"yaxis\":{\"backgroundcolor\":\"#E5ECF6\",\"gridcolor\":\"white\",\"linecolor\":\"white\",\"showbackground\":true,\"ticks\":\"\",\"zerolinecolor\":\"white\",\"gridwidth\":2},\"zaxis\":{\"backgroundcolor\":\"#E5ECF6\",\"gridcolor\":\"white\",\"linecolor\":\"white\",\"showbackground\":true,\"ticks\":\"\",\"zerolinecolor\":\"white\",\"gridwidth\":2}},\"shapedefaults\":{\"line\":{\"color\":\"#2a3f5f\"}},\"annotationdefaults\":{\"arrowcolor\":\"#2a3f5f\",\"arrowhead\":0,\"arrowwidth\":1},\"geo\":{\"bgcolor\":\"white\",\"landcolor\":\"#E5ECF6\",\"subunitcolor\":\"white\",\"showland\":true,\"showlakes\":true,\"lakecolor\":\"white\"},\"title\":{\"x\":0.05},\"mapbox\":{\"style\":\"light\"}}},\"legend\":{\"tracegroupgap\":0},\"title\":{\"text\":\"Average Number of Backers by Main Category (Top 20)\"}},                        {\"responsive\": true}                    ).then(function(){\n",
              "                            \n",
              "var gd = document.getElementById('ef15ba50-810b-4fda-8850-6c97f5e15629');\n",
              "var x = new MutationObserver(function (mutations, observer) {{\n",
              "        var display = window.getComputedStyle(gd).display;\n",
              "        if (!display || display === 'none') {{\n",
              "            console.log([gd, 'removed!']);\n",
              "            Plotly.purge(gd);\n",
              "            observer.disconnect();\n",
              "        }}\n",
              "}});\n",
              "\n",
              "// Listen for the removal of the full notebook cells\n",
              "var notebookContainer = gd.closest('#notebook-container');\n",
              "if (notebookContainer) {{\n",
              "    x.observe(notebookContainer, {childList: true});\n",
              "}}\n",
              "\n",
              "// Listen for the clearing of the current output cell\n",
              "var outputEl = gd.closest('.output');\n",
              "if (outputEl) {{\n",
              "    x.observe(outputEl, {childList: true});\n",
              "}}\n",
              "\n",
              "                        })                };                            </script>        </div>\n",
              "</body>\n",
              "</html>"
            ]
          },
          "metadata": {}
        }
      ]
    },
    {
      "cell_type": "code",
      "source": [
        "import seaborn as sns\n",
        "# Query 3: Average pledged amount for successful projects by main category\n",
        "query3 = df.filter(df.state == \"successful\").groupBy(\"main_category\").avg(\"usd_pledged_real\")\n",
        "query3.show()\n",
        "query3_pd = query3.toPandas()\n",
        "# Visualization 3: Interactive Scatter Plot\n",
        "fig = px.scatter(query3_pd, x='main_category', y='avg(usd_pledged_real)', color='main_category', title='Average Pledged Amount for Successful Projects by Main Category')\n",
        "fig.show()"
      ],
      "metadata": {
        "colab": {
          "base_uri": "https://localhost:8080/",
          "height": 882
        },
        "id": "ABfN26jX5X4J",
        "outputId": "fe86027a-c456-4945-d251-213a2ce033a2"
      },
      "execution_count": null,
      "outputs": [
        {
          "output_type": "stream",
          "name": "stdout",
          "text": [
            "+-------------+---------------------+\n",
            "|main_category|avg(usd_pledged_real)|\n",
            "+-------------+---------------------+\n",
            "|         Food|    18050.81322409646|\n",
            "|          Art|    6925.822104362198|\n",
            "|      Fashion|    20126.57219421118|\n",
            "| Film & Video|    14071.19209427663|\n",
            "|   Publishing|    9267.042699950787|\n",
            "|       Crafts|    5272.591981675741|\n",
            "|       Comics|   11597.742356049155|\n",
            "|        Games|   53824.813477476615|\n",
            "|        Music|    7219.049037242629|\n",
            "|       Design|   61228.639399735264|\n",
            "|  Photography|   10041.772509045762|\n",
            "|   Technology|    90494.60017583462|\n",
            "|   Journalism|     9695.56630185046|\n",
            "|      Theater|    5935.421342126347|\n",
            "|        Dance|    5422.770332885511|\n",
            "+-------------+---------------------+\n",
            "\n"
          ]
        },
        {
          "output_type": "display_data",
          "data": {
            "text/html": [
              "<html>\n",
              "<head><meta charset=\"utf-8\" /></head>\n",
              "<body>\n",
              "    <div>            <script src=\"https://cdnjs.cloudflare.com/ajax/libs/mathjax/2.7.5/MathJax.js?config=TeX-AMS-MML_SVG\"></script><script type=\"text/javascript\">if (window.MathJax && window.MathJax.Hub && window.MathJax.Hub.Config) {window.MathJax.Hub.Config({SVG: {font: \"STIX-Web\"}});}</script>                <script type=\"text/javascript\">window.PlotlyConfig = {MathJaxConfig: 'local'};</script>\n",
              "        <script charset=\"utf-8\" src=\"https://cdn.plot.ly/plotly-2.24.1.min.js\"></script>                <div id=\"3f6ea1bd-8f5f-4a4a-8c25-027a7d45c064\" class=\"plotly-graph-div\" style=\"height:525px; width:100%;\"></div>            <script type=\"text/javascript\">                                    window.PLOTLYENV=window.PLOTLYENV || {};                                    if (document.getElementById(\"3f6ea1bd-8f5f-4a4a-8c25-027a7d45c064\")) {                    Plotly.newPlot(                        \"3f6ea1bd-8f5f-4a4a-8c25-027a7d45c064\",                        [{\"hovertemplate\":\"main_category=%{x}\\u003cbr\\u003eavg(usd_pledged_real)=%{y}\\u003cextra\\u003e\\u003c\\u002fextra\\u003e\",\"legendgroup\":\"Food\",\"marker\":{\"color\":\"#636efa\",\"symbol\":\"circle\"},\"mode\":\"markers\",\"name\":\"Food\",\"orientation\":\"v\",\"showlegend\":true,\"x\":[\"Food\"],\"xaxis\":\"x\",\"y\":[18050.81322409646],\"yaxis\":\"y\",\"type\":\"scatter\"},{\"hovertemplate\":\"main_category=%{x}\\u003cbr\\u003eavg(usd_pledged_real)=%{y}\\u003cextra\\u003e\\u003c\\u002fextra\\u003e\",\"legendgroup\":\"Art\",\"marker\":{\"color\":\"#EF553B\",\"symbol\":\"circle\"},\"mode\":\"markers\",\"name\":\"Art\",\"orientation\":\"v\",\"showlegend\":true,\"x\":[\"Art\"],\"xaxis\":\"x\",\"y\":[6925.822104362198],\"yaxis\":\"y\",\"type\":\"scatter\"},{\"hovertemplate\":\"main_category=%{x}\\u003cbr\\u003eavg(usd_pledged_real)=%{y}\\u003cextra\\u003e\\u003c\\u002fextra\\u003e\",\"legendgroup\":\"Fashion\",\"marker\":{\"color\":\"#00cc96\",\"symbol\":\"circle\"},\"mode\":\"markers\",\"name\":\"Fashion\",\"orientation\":\"v\",\"showlegend\":true,\"x\":[\"Fashion\"],\"xaxis\":\"x\",\"y\":[20126.57219421118],\"yaxis\":\"y\",\"type\":\"scatter\"},{\"hovertemplate\":\"main_category=%{x}\\u003cbr\\u003eavg(usd_pledged_real)=%{y}\\u003cextra\\u003e\\u003c\\u002fextra\\u003e\",\"legendgroup\":\"Film & Video\",\"marker\":{\"color\":\"#ab63fa\",\"symbol\":\"circle\"},\"mode\":\"markers\",\"name\":\"Film & Video\",\"orientation\":\"v\",\"showlegend\":true,\"x\":[\"Film & Video\"],\"xaxis\":\"x\",\"y\":[14071.19209427663],\"yaxis\":\"y\",\"type\":\"scatter\"},{\"hovertemplate\":\"main_category=%{x}\\u003cbr\\u003eavg(usd_pledged_real)=%{y}\\u003cextra\\u003e\\u003c\\u002fextra\\u003e\",\"legendgroup\":\"Publishing\",\"marker\":{\"color\":\"#FFA15A\",\"symbol\":\"circle\"},\"mode\":\"markers\",\"name\":\"Publishing\",\"orientation\":\"v\",\"showlegend\":true,\"x\":[\"Publishing\"],\"xaxis\":\"x\",\"y\":[9267.042699950787],\"yaxis\":\"y\",\"type\":\"scatter\"},{\"hovertemplate\":\"main_category=%{x}\\u003cbr\\u003eavg(usd_pledged_real)=%{y}\\u003cextra\\u003e\\u003c\\u002fextra\\u003e\",\"legendgroup\":\"Crafts\",\"marker\":{\"color\":\"#19d3f3\",\"symbol\":\"circle\"},\"mode\":\"markers\",\"name\":\"Crafts\",\"orientation\":\"v\",\"showlegend\":true,\"x\":[\"Crafts\"],\"xaxis\":\"x\",\"y\":[5272.591981675741],\"yaxis\":\"y\",\"type\":\"scatter\"},{\"hovertemplate\":\"main_category=%{x}\\u003cbr\\u003eavg(usd_pledged_real)=%{y}\\u003cextra\\u003e\\u003c\\u002fextra\\u003e\",\"legendgroup\":\"Comics\",\"marker\":{\"color\":\"#FF6692\",\"symbol\":\"circle\"},\"mode\":\"markers\",\"name\":\"Comics\",\"orientation\":\"v\",\"showlegend\":true,\"x\":[\"Comics\"],\"xaxis\":\"x\",\"y\":[11597.742356049155],\"yaxis\":\"y\",\"type\":\"scatter\"},{\"hovertemplate\":\"main_category=%{x}\\u003cbr\\u003eavg(usd_pledged_real)=%{y}\\u003cextra\\u003e\\u003c\\u002fextra\\u003e\",\"legendgroup\":\"Games\",\"marker\":{\"color\":\"#B6E880\",\"symbol\":\"circle\"},\"mode\":\"markers\",\"name\":\"Games\",\"orientation\":\"v\",\"showlegend\":true,\"x\":[\"Games\"],\"xaxis\":\"x\",\"y\":[53824.813477476615],\"yaxis\":\"y\",\"type\":\"scatter\"},{\"hovertemplate\":\"main_category=%{x}\\u003cbr\\u003eavg(usd_pledged_real)=%{y}\\u003cextra\\u003e\\u003c\\u002fextra\\u003e\",\"legendgroup\":\"Music\",\"marker\":{\"color\":\"#FF97FF\",\"symbol\":\"circle\"},\"mode\":\"markers\",\"name\":\"Music\",\"orientation\":\"v\",\"showlegend\":true,\"x\":[\"Music\"],\"xaxis\":\"x\",\"y\":[7219.049037242629],\"yaxis\":\"y\",\"type\":\"scatter\"},{\"hovertemplate\":\"main_category=%{x}\\u003cbr\\u003eavg(usd_pledged_real)=%{y}\\u003cextra\\u003e\\u003c\\u002fextra\\u003e\",\"legendgroup\":\"Design\",\"marker\":{\"color\":\"#FECB52\",\"symbol\":\"circle\"},\"mode\":\"markers\",\"name\":\"Design\",\"orientation\":\"v\",\"showlegend\":true,\"x\":[\"Design\"],\"xaxis\":\"x\",\"y\":[61228.639399735264],\"yaxis\":\"y\",\"type\":\"scatter\"},{\"hovertemplate\":\"main_category=%{x}\\u003cbr\\u003eavg(usd_pledged_real)=%{y}\\u003cextra\\u003e\\u003c\\u002fextra\\u003e\",\"legendgroup\":\"Photography\",\"marker\":{\"color\":\"#636efa\",\"symbol\":\"circle\"},\"mode\":\"markers\",\"name\":\"Photography\",\"orientation\":\"v\",\"showlegend\":true,\"x\":[\"Photography\"],\"xaxis\":\"x\",\"y\":[10041.772509045762],\"yaxis\":\"y\",\"type\":\"scatter\"},{\"hovertemplate\":\"main_category=%{x}\\u003cbr\\u003eavg(usd_pledged_real)=%{y}\\u003cextra\\u003e\\u003c\\u002fextra\\u003e\",\"legendgroup\":\"Technology\",\"marker\":{\"color\":\"#EF553B\",\"symbol\":\"circle\"},\"mode\":\"markers\",\"name\":\"Technology\",\"orientation\":\"v\",\"showlegend\":true,\"x\":[\"Technology\"],\"xaxis\":\"x\",\"y\":[90494.60017583462],\"yaxis\":\"y\",\"type\":\"scatter\"},{\"hovertemplate\":\"main_category=%{x}\\u003cbr\\u003eavg(usd_pledged_real)=%{y}\\u003cextra\\u003e\\u003c\\u002fextra\\u003e\",\"legendgroup\":\"Journalism\",\"marker\":{\"color\":\"#00cc96\",\"symbol\":\"circle\"},\"mode\":\"markers\",\"name\":\"Journalism\",\"orientation\":\"v\",\"showlegend\":true,\"x\":[\"Journalism\"],\"xaxis\":\"x\",\"y\":[9695.56630185046],\"yaxis\":\"y\",\"type\":\"scatter\"},{\"hovertemplate\":\"main_category=%{x}\\u003cbr\\u003eavg(usd_pledged_real)=%{y}\\u003cextra\\u003e\\u003c\\u002fextra\\u003e\",\"legendgroup\":\"Theater\",\"marker\":{\"color\":\"#ab63fa\",\"symbol\":\"circle\"},\"mode\":\"markers\",\"name\":\"Theater\",\"orientation\":\"v\",\"showlegend\":true,\"x\":[\"Theater\"],\"xaxis\":\"x\",\"y\":[5935.421342126347],\"yaxis\":\"y\",\"type\":\"scatter\"},{\"hovertemplate\":\"main_category=%{x}\\u003cbr\\u003eavg(usd_pledged_real)=%{y}\\u003cextra\\u003e\\u003c\\u002fextra\\u003e\",\"legendgroup\":\"Dance\",\"marker\":{\"color\":\"#FFA15A\",\"symbol\":\"circle\"},\"mode\":\"markers\",\"name\":\"Dance\",\"orientation\":\"v\",\"showlegend\":true,\"x\":[\"Dance\"],\"xaxis\":\"x\",\"y\":[5422.770332885511],\"yaxis\":\"y\",\"type\":\"scatter\"}],                        {\"template\":{\"data\":{\"histogram2dcontour\":[{\"type\":\"histogram2dcontour\",\"colorbar\":{\"outlinewidth\":0,\"ticks\":\"\"},\"colorscale\":[[0.0,\"#0d0887\"],[0.1111111111111111,\"#46039f\"],[0.2222222222222222,\"#7201a8\"],[0.3333333333333333,\"#9c179e\"],[0.4444444444444444,\"#bd3786\"],[0.5555555555555556,\"#d8576b\"],[0.6666666666666666,\"#ed7953\"],[0.7777777777777778,\"#fb9f3a\"],[0.8888888888888888,\"#fdca26\"],[1.0,\"#f0f921\"]]}],\"choropleth\":[{\"type\":\"choropleth\",\"colorbar\":{\"outlinewidth\":0,\"ticks\":\"\"}}],\"histogram2d\":[{\"type\":\"histogram2d\",\"colorbar\":{\"outlinewidth\":0,\"ticks\":\"\"},\"colorscale\":[[0.0,\"#0d0887\"],[0.1111111111111111,\"#46039f\"],[0.2222222222222222,\"#7201a8\"],[0.3333333333333333,\"#9c179e\"],[0.4444444444444444,\"#bd3786\"],[0.5555555555555556,\"#d8576b\"],[0.6666666666666666,\"#ed7953\"],[0.7777777777777778,\"#fb9f3a\"],[0.8888888888888888,\"#fdca26\"],[1.0,\"#f0f921\"]]}],\"heatmap\":[{\"type\":\"heatmap\",\"colorbar\":{\"outlinewidth\":0,\"ticks\":\"\"},\"colorscale\":[[0.0,\"#0d0887\"],[0.1111111111111111,\"#46039f\"],[0.2222222222222222,\"#7201a8\"],[0.3333333333333333,\"#9c179e\"],[0.4444444444444444,\"#bd3786\"],[0.5555555555555556,\"#d8576b\"],[0.6666666666666666,\"#ed7953\"],[0.7777777777777778,\"#fb9f3a\"],[0.8888888888888888,\"#fdca26\"],[1.0,\"#f0f921\"]]}],\"heatmapgl\":[{\"type\":\"heatmapgl\",\"colorbar\":{\"outlinewidth\":0,\"ticks\":\"\"},\"colorscale\":[[0.0,\"#0d0887\"],[0.1111111111111111,\"#46039f\"],[0.2222222222222222,\"#7201a8\"],[0.3333333333333333,\"#9c179e\"],[0.4444444444444444,\"#bd3786\"],[0.5555555555555556,\"#d8576b\"],[0.6666666666666666,\"#ed7953\"],[0.7777777777777778,\"#fb9f3a\"],[0.8888888888888888,\"#fdca26\"],[1.0,\"#f0f921\"]]}],\"contourcarpet\":[{\"type\":\"contourcarpet\",\"colorbar\":{\"outlinewidth\":0,\"ticks\":\"\"}}],\"contour\":[{\"type\":\"contour\",\"colorbar\":{\"outlinewidth\":0,\"ticks\":\"\"},\"colorscale\":[[0.0,\"#0d0887\"],[0.1111111111111111,\"#46039f\"],[0.2222222222222222,\"#7201a8\"],[0.3333333333333333,\"#9c179e\"],[0.4444444444444444,\"#bd3786\"],[0.5555555555555556,\"#d8576b\"],[0.6666666666666666,\"#ed7953\"],[0.7777777777777778,\"#fb9f3a\"],[0.8888888888888888,\"#fdca26\"],[1.0,\"#f0f921\"]]}],\"surface\":[{\"type\":\"surface\",\"colorbar\":{\"outlinewidth\":0,\"ticks\":\"\"},\"colorscale\":[[0.0,\"#0d0887\"],[0.1111111111111111,\"#46039f\"],[0.2222222222222222,\"#7201a8\"],[0.3333333333333333,\"#9c179e\"],[0.4444444444444444,\"#bd3786\"],[0.5555555555555556,\"#d8576b\"],[0.6666666666666666,\"#ed7953\"],[0.7777777777777778,\"#fb9f3a\"],[0.8888888888888888,\"#fdca26\"],[1.0,\"#f0f921\"]]}],\"mesh3d\":[{\"type\":\"mesh3d\",\"colorbar\":{\"outlinewidth\":0,\"ticks\":\"\"}}],\"scatter\":[{\"fillpattern\":{\"fillmode\":\"overlay\",\"size\":10,\"solidity\":0.2},\"type\":\"scatter\"}],\"parcoords\":[{\"type\":\"parcoords\",\"line\":{\"colorbar\":{\"outlinewidth\":0,\"ticks\":\"\"}}}],\"scatterpolargl\":[{\"type\":\"scatterpolargl\",\"marker\":{\"colorbar\":{\"outlinewidth\":0,\"ticks\":\"\"}}}],\"bar\":[{\"error_x\":{\"color\":\"#2a3f5f\"},\"error_y\":{\"color\":\"#2a3f5f\"},\"marker\":{\"line\":{\"color\":\"#E5ECF6\",\"width\":0.5},\"pattern\":{\"fillmode\":\"overlay\",\"size\":10,\"solidity\":0.2}},\"type\":\"bar\"}],\"scattergeo\":[{\"type\":\"scattergeo\",\"marker\":{\"colorbar\":{\"outlinewidth\":0,\"ticks\":\"\"}}}],\"scatterpolar\":[{\"type\":\"scatterpolar\",\"marker\":{\"colorbar\":{\"outlinewidth\":0,\"ticks\":\"\"}}}],\"histogram\":[{\"marker\":{\"pattern\":{\"fillmode\":\"overlay\",\"size\":10,\"solidity\":0.2}},\"type\":\"histogram\"}],\"scattergl\":[{\"type\":\"scattergl\",\"marker\":{\"colorbar\":{\"outlinewidth\":0,\"ticks\":\"\"}}}],\"scatter3d\":[{\"type\":\"scatter3d\",\"line\":{\"colorbar\":{\"outlinewidth\":0,\"ticks\":\"\"}},\"marker\":{\"colorbar\":{\"outlinewidth\":0,\"ticks\":\"\"}}}],\"scattermapbox\":[{\"type\":\"scattermapbox\",\"marker\":{\"colorbar\":{\"outlinewidth\":0,\"ticks\":\"\"}}}],\"scatterternary\":[{\"type\":\"scatterternary\",\"marker\":{\"colorbar\":{\"outlinewidth\":0,\"ticks\":\"\"}}}],\"scattercarpet\":[{\"type\":\"scattercarpet\",\"marker\":{\"colorbar\":{\"outlinewidth\":0,\"ticks\":\"\"}}}],\"carpet\":[{\"aaxis\":{\"endlinecolor\":\"#2a3f5f\",\"gridcolor\":\"white\",\"linecolor\":\"white\",\"minorgridcolor\":\"white\",\"startlinecolor\":\"#2a3f5f\"},\"baxis\":{\"endlinecolor\":\"#2a3f5f\",\"gridcolor\":\"white\",\"linecolor\":\"white\",\"minorgridcolor\":\"white\",\"startlinecolor\":\"#2a3f5f\"},\"type\":\"carpet\"}],\"table\":[{\"cells\":{\"fill\":{\"color\":\"#EBF0F8\"},\"line\":{\"color\":\"white\"}},\"header\":{\"fill\":{\"color\":\"#C8D4E3\"},\"line\":{\"color\":\"white\"}},\"type\":\"table\"}],\"barpolar\":[{\"marker\":{\"line\":{\"color\":\"#E5ECF6\",\"width\":0.5},\"pattern\":{\"fillmode\":\"overlay\",\"size\":10,\"solidity\":0.2}},\"type\":\"barpolar\"}],\"pie\":[{\"automargin\":true,\"type\":\"pie\"}]},\"layout\":{\"autotypenumbers\":\"strict\",\"colorway\":[\"#636efa\",\"#EF553B\",\"#00cc96\",\"#ab63fa\",\"#FFA15A\",\"#19d3f3\",\"#FF6692\",\"#B6E880\",\"#FF97FF\",\"#FECB52\"],\"font\":{\"color\":\"#2a3f5f\"},\"hovermode\":\"closest\",\"hoverlabel\":{\"align\":\"left\"},\"paper_bgcolor\":\"white\",\"plot_bgcolor\":\"#E5ECF6\",\"polar\":{\"bgcolor\":\"#E5ECF6\",\"angularaxis\":{\"gridcolor\":\"white\",\"linecolor\":\"white\",\"ticks\":\"\"},\"radialaxis\":{\"gridcolor\":\"white\",\"linecolor\":\"white\",\"ticks\":\"\"}},\"ternary\":{\"bgcolor\":\"#E5ECF6\",\"aaxis\":{\"gridcolor\":\"white\",\"linecolor\":\"white\",\"ticks\":\"\"},\"baxis\":{\"gridcolor\":\"white\",\"linecolor\":\"white\",\"ticks\":\"\"},\"caxis\":{\"gridcolor\":\"white\",\"linecolor\":\"white\",\"ticks\":\"\"}},\"coloraxis\":{\"colorbar\":{\"outlinewidth\":0,\"ticks\":\"\"}},\"colorscale\":{\"sequential\":[[0.0,\"#0d0887\"],[0.1111111111111111,\"#46039f\"],[0.2222222222222222,\"#7201a8\"],[0.3333333333333333,\"#9c179e\"],[0.4444444444444444,\"#bd3786\"],[0.5555555555555556,\"#d8576b\"],[0.6666666666666666,\"#ed7953\"],[0.7777777777777778,\"#fb9f3a\"],[0.8888888888888888,\"#fdca26\"],[1.0,\"#f0f921\"]],\"sequentialminus\":[[0.0,\"#0d0887\"],[0.1111111111111111,\"#46039f\"],[0.2222222222222222,\"#7201a8\"],[0.3333333333333333,\"#9c179e\"],[0.4444444444444444,\"#bd3786\"],[0.5555555555555556,\"#d8576b\"],[0.6666666666666666,\"#ed7953\"],[0.7777777777777778,\"#fb9f3a\"],[0.8888888888888888,\"#fdca26\"],[1.0,\"#f0f921\"]],\"diverging\":[[0,\"#8e0152\"],[0.1,\"#c51b7d\"],[0.2,\"#de77ae\"],[0.3,\"#f1b6da\"],[0.4,\"#fde0ef\"],[0.5,\"#f7f7f7\"],[0.6,\"#e6f5d0\"],[0.7,\"#b8e186\"],[0.8,\"#7fbc41\"],[0.9,\"#4d9221\"],[1,\"#276419\"]]},\"xaxis\":{\"gridcolor\":\"white\",\"linecolor\":\"white\",\"ticks\":\"\",\"title\":{\"standoff\":15},\"zerolinecolor\":\"white\",\"automargin\":true,\"zerolinewidth\":2},\"yaxis\":{\"gridcolor\":\"white\",\"linecolor\":\"white\",\"ticks\":\"\",\"title\":{\"standoff\":15},\"zerolinecolor\":\"white\",\"automargin\":true,\"zerolinewidth\":2},\"scene\":{\"xaxis\":{\"backgroundcolor\":\"#E5ECF6\",\"gridcolor\":\"white\",\"linecolor\":\"white\",\"showbackground\":true,\"ticks\":\"\",\"zerolinecolor\":\"white\",\"gridwidth\":2},\"yaxis\":{\"backgroundcolor\":\"#E5ECF6\",\"gridcolor\":\"white\",\"linecolor\":\"white\",\"showbackground\":true,\"ticks\":\"\",\"zerolinecolor\":\"white\",\"gridwidth\":2},\"zaxis\":{\"backgroundcolor\":\"#E5ECF6\",\"gridcolor\":\"white\",\"linecolor\":\"white\",\"showbackground\":true,\"ticks\":\"\",\"zerolinecolor\":\"white\",\"gridwidth\":2}},\"shapedefaults\":{\"line\":{\"color\":\"#2a3f5f\"}},\"annotationdefaults\":{\"arrowcolor\":\"#2a3f5f\",\"arrowhead\":0,\"arrowwidth\":1},\"geo\":{\"bgcolor\":\"white\",\"landcolor\":\"#E5ECF6\",\"subunitcolor\":\"white\",\"showland\":true,\"showlakes\":true,\"lakecolor\":\"white\"},\"title\":{\"x\":0.05},\"mapbox\":{\"style\":\"light\"}}},\"xaxis\":{\"anchor\":\"y\",\"domain\":[0.0,1.0],\"title\":{\"text\":\"main_category\"},\"categoryorder\":\"array\",\"categoryarray\":[\"Food\",\"Art\",\"Fashion\",\"Film & Video\",\"Publishing\",\"Crafts\",\"Comics\",\"Games\",\"Music\",\"Design\",\"Photography\",\"Technology\",\"Journalism\",\"Theater\",\"Dance\"]},\"yaxis\":{\"anchor\":\"x\",\"domain\":[0.0,1.0],\"title\":{\"text\":\"avg(usd_pledged_real)\"}},\"legend\":{\"title\":{\"text\":\"main_category\"},\"tracegroupgap\":0},\"title\":{\"text\":\"Average Pledged Amount for Successful Projects by Main Category\"}},                        {\"responsive\": true}                    ).then(function(){\n",
              "                            \n",
              "var gd = document.getElementById('3f6ea1bd-8f5f-4a4a-8c25-027a7d45c064');\n",
              "var x = new MutationObserver(function (mutations, observer) {{\n",
              "        var display = window.getComputedStyle(gd).display;\n",
              "        if (!display || display === 'none') {{\n",
              "            console.log([gd, 'removed!']);\n",
              "            Plotly.purge(gd);\n",
              "            observer.disconnect();\n",
              "        }}\n",
              "}});\n",
              "\n",
              "// Listen for the removal of the full notebook cells\n",
              "var notebookContainer = gd.closest('#notebook-container');\n",
              "if (notebookContainer) {{\n",
              "    x.observe(notebookContainer, {childList: true});\n",
              "}}\n",
              "\n",
              "// Listen for the clearing of the current output cell\n",
              "var outputEl = gd.closest('.output');\n",
              "if (outputEl) {{\n",
              "    x.observe(outputEl, {childList: true});\n",
              "}}\n",
              "\n",
              "                        })                };                            </script>        </div>\n",
              "</body>\n",
              "</html>"
            ]
          },
          "metadata": {}
        }
      ]
    },
    {
      "cell_type": "code",
      "source": [
        "from pyspark.ml.feature import StringIndexer, VectorAssembler\n",
        "from pyspark.ml import Pipeline\n",
        "from pyspark.ml.classification import LogisticRegression, RandomForestClassifier, GBTClassifier\n",
        "from pyspark.ml.evaluation import MulticlassClassificationEvaluator\n",
        "\n",
        "# Combine features into a single vector column\n",
        "featureCols = [\"goal\", \"pledged\", \"usd pledged\", \"usd_pledged_real\", \"usd_goal_real\"]\n",
        "assembler = VectorAssembler(inputCols=featureCols, outputCol=\"features\", handleInvalid=\"skip\")\n",
        "output = assembler.transform(df.dropna())\n",
        "\n",
        "# Split data into train and test sets\n",
        "trainData, testData = output.randomSplit([0.7, 0.3], seed=1234)\n",
        "\n",
        "# Initialize models\n",
        "lr = LogisticRegression(labelCol=\"label\", featuresCol=\"features\")\n",
        "rf = RandomForestClassifier(labelCol=\"label\", featuresCol=\"features\")\n",
        "gbt = GBTClassifier(labelCol=\"label\", featuresCol=\"features\")\n",
        "\n",
        "# Fit models\n",
        "lrModel = lr.fit(trainData)\n",
        "rfModel = rf.fit(trainData)\n",
        "gbtModel = gbt.fit(trainData)\n",
        "\n",
        "# Make predictions on the test data for all models\n",
        "lr_predictions = lrModel.transform(testData)\n",
        "rf_predictions = rfModel.transform(testData)\n",
        "gbt_predictions = gbtModel.transform(testData)\n",
        "\n",
        "# Evaluate models and print accuracies\n",
        "evaluator = MulticlassClassificationEvaluator(labelCol=\"label\", predictionCol=\"prediction\", metricName=\"accuracy\")\n",
        "\n",
        "lr_accuracy = evaluator.evaluate(lr_predictions)\n",
        "rf_accuracy = evaluator.evaluate(rf_predictions)\n",
        "gbt_accuracy = evaluator.evaluate(gbt_predictions)\n",
        "\n",
        "print(f\"Logistic Regression Accuracy: {lr_accuracy}\")\n",
        "print(f\"Random Forest Accuracy: {rf_accuracy}\")\n",
        "print(f\"Gradient Boosted Tree Accuracy: {gbt_accuracy}\")\n"
      ],
      "metadata": {
        "colab": {
          "base_uri": "https://localhost:8080/"
        },
        "id": "X0Qu9gBCaM7_",
        "outputId": "e39829ca-b35d-4572-f386-75a90bbdf450"
      },
      "execution_count": null,
      "outputs": [
        {
          "output_type": "stream",
          "name": "stdout",
          "text": [
            "Logistic Regression Accuracy: 0.9805528094148237\n",
            "Random Forest Accuracy: 0.9770181877276851\n",
            "Gradient Boosted Tree Accuracy: 0.9858208854159614\n"
          ]
        }
      ]
    }
  ]
}